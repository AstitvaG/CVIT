{
  "nbformat": 4,
  "nbformat_minor": 0,
  "metadata": {
    "colab": {
      "name": "Probability.ipynb",
      "provenance": []
    },
    "kernelspec": {
      "name": "python3",
      "display_name": "Python 3"
    }
  },
  "cells": [
    {
      "cell_type": "markdown",
      "metadata": {
        "id": "0RQ3xyfJHvly",
        "colab_type": "text"
      },
      "source": [
        "# Probability\n",
        "\n",
        "### Bayes Rule\n",
        "\n",
        "Com\n",
        "$$\n",
        "P(A|B) = \\frac{P(B|A) * P(A)}{P(B)}\n",
        "$$\n",
        "\n",
        "$P(A)$ is the prior probability.\n",
        "\n",
        "$P(A|B)$ is the posterior probability.\n",
        "\n",
        "### Theorem Of Total Probability\n",
        "\n",
        "Relates marginal probabilities with conditional probabilitites.\n",
        "\n",
        "$$\n",
        "P(A) = \\sum_B P(A/B) * P(B)\n",
        "$$\n",
        "\n",
        "### Entropy\n",
        "\n",
        "Measure of randomness of the information being processed.\n",
        "\n",
        "$$\n",
        "Entropy = -\\sum_p p* \\log p\n",
        "$$"
      ]
    },
    {
      "cell_type": "markdown",
      "metadata": {
        "id": "mpvN3xm0M_U0",
        "colab_type": "text"
      },
      "source": [
        "***Excercise!***\n",
        "\n",
        "### Cancer Test Example\n",
        "Let us apply Bayes' Rule to a Cancer Test Example which is a very common example in Statistic classes.\n",
        "Suppose, there is a certain type of cancer which is extremely rare.\n",
        "\n",
        "Let,\n",
        "\\begin{equation}\n",
        "P(C) = 0.001\n",
        "\\end{equation}\n",
        "In other words, $1$ in every $1000$ people has this cancer. Can you compute the probability of not having cancer?\n",
        "\\begin{equation}\n",
        "P(\\neg C) = 0.999\n",
        "\\end{equation}\n",
        "\n",
        "The test for cancer is not $100\\%$ accurate. Let us say, probability of the test being positive given someone has cancer is,\n",
        "\\begin{equation}\n",
        "P(pos | C) = 0.8\n",
        "\\end{equation}\n",
        "Can you compute the probability that the test is negative given someone has cancer?\n",
        "\\begin{equation}\n",
        "P(neg | C) = 0.2\n",
        "\\end{equation}\n",
        "\n",
        "Similarly, the probability of a test being positive given that someone has no cancer is \n",
        "$$\n",
        "P(pos | \\neg C) = 0.1\n",
        "$$. \n",
        "\n",
        "Can you compute the probability that the test is negative given someone has no cancer?\n",
        "\\begin{equation}\n",
        "P(neg | \\neg C) = 0.9\n",
        "\\end{equation}\n",
        "\n",
        "Can you compute the following?\n",
        "\\begin{equation}\n",
        "P(C | pos) = \\frac{0.8 * 0.001}{0.001*0.8 + 0.999*0.1} = 0.0079\n",
        "\\end{equation}\n",
        "Interpret the quantity you computed in words!\n",
        "\n",
        "The probability of having cancer given that you tested positive is the probabilty of having cancer times the probaility of testing positive given that you have cancer by the probability of being positive.\n",
        "\n",
        "What we computed is very interesting. We computed probability of having cancer given the test results and how likely the disease is."
      ]
    }
  ]
}