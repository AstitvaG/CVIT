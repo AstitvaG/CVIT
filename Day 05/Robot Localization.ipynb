{
  "nbformat": 4,
  "nbformat_minor": 0,
  "metadata": {
    "colab": {
      "name": "Robot Localization.ipynb",
      "provenance": []
    },
    "kernelspec": {
      "name": "python3",
      "display_name": "Python 3"
    }
  },
  "cells": [
    {
      "cell_type": "markdown",
      "metadata": {
        "id": "I0iPdR-y-aGV",
        "colab_type": "text"
      },
      "source": [
        "# Robot Localization\n",
        "\n",
        "In this exercise we will apply basic concepts of probability and statistics to help a robot localise itself. Robot localization is an important task for any mobile robot as it needs to know where in the world it is currently situated in.\n",
        "\n",
        "You may think robot localization is a very easy problem as you can use GPS. But no! GPS has errors in localization upto a few metres which is very inaccurate for self driving cars.\n",
        "\n",
        "Hence, the robot needs to use sensors to locate itself. And sensors are noisy! Even the motion of a robot is uncertain.\n",
        "\n",
        "For the purposes of this exercise, let us assume that the world is a one dimensional world with $N$ grid cells. Each grid cell is colored either red or green which can be measured using a sensor located in the robot. However, the sensor measurements are noisy and hence we need to take a probabilitic approach to determine in which of these grid cells the robot is situated in at a given instant of time.\n",
        "\n",
        "$$\n",
        "Red \\;|\\; Green \\;|\\;  Red \\;|\\;  Green\\;|\\; Red\n",
        "$$\n",
        "\n",
        "The robot can move either left or right in this **cyclic** world. This motion is uncertain as well prompting us again to take a probabilistic approach. For example you may instruct the robot to move $5$ cells. But it may move $4/6$ cells due to a wheel slip.\n",
        "\n",
        "When the robot is switched on, it is in a state of maximum confusion. It doesn't know where it is situated. We will model this state of maximum confusion as uniform distribution. \n",
        "In other words, the robot has equal belief of being present in any of the cells.\n",
        "\n",
        "Complete the below function to return an array where the $i^{th}$ array element is the probability that the robot is in the $i^{th}$ grid cell at time instant $0$ when the robot is switched on."
      ]
    },
    {
      "cell_type": "code",
      "metadata": {
        "id": "WKaYvKXt6iHG",
        "colab_type": "code",
        "colab": {}
      },
      "source": [
        "# Modify the empty list, p, so that it becomes a UNIFORM probability\n",
        "# distribution over n grid cells, as expressed in a list of \n",
        "# n probabilities.\n",
        "def init_distribution(n):\n",
        "    p = []\n",
        "    p = [1/n for i in range(n)]\n",
        "    return p"
      ],
      "execution_count": 0,
      "outputs": []
    },
    {
      "cell_type": "code",
      "metadata": {
        "id": "X_TWpo2V96Q8",
        "colab_type": "code",
        "outputId": "f77f1139-81d8-4159-8a29-ce2971be531b",
        "colab": {
          "base_uri": "https://localhost:8080/",
          "height": 34
        }
      },
      "source": [
        "init_distribution(5)"
      ],
      "execution_count": 5,
      "outputs": [
        {
          "output_type": "execute_result",
          "data": {
            "text/plain": [
              "[0.2, 0.2, 0.2, 0.2, 0.2]"
            ]
          },
          "metadata": {
            "tags": []
          },
          "execution_count": 5
        }
      ]
    },
    {
      "cell_type": "markdown",
      "metadata": {
        "id": "_X1MPpWzSgfN",
        "colab_type": "text"
      },
      "source": [
        "The node is allowed to sense its environment using sensors. These measurements are noisy. \n",
        "\n",
        "In a red cell,\n",
        "$$\n",
        "P(red | red) = 0.75\n",
        "$$\n",
        "Hence,\n",
        "$$\n",
        "P(green | red) = 0.25\n",
        "$$\n",
        "\n",
        "In a green cell,\n",
        "$$\n",
        "P(red | green) = 0.25\n",
        "$$\n",
        "Hence,\n",
        "$$\n",
        "P(green | green) = 0.75\n",
        "$$"
      ]
    },
    {
      "cell_type": "code",
      "metadata": {
        "id": "Se_FN-CC-Hx9",
        "colab_type": "code",
        "outputId": "57f659d9-86c2-4856-b499-af06a276cf5c",
        "colab": {
          "base_uri": "https://localhost:8080/",
          "height": 52
        }
      },
      "source": [
        "# Modify the code below so that the function sense, which \n",
        "# takes p and Z as inputs, will output the normalized \n",
        "# probability distribution, q, after multiplying the entries \n",
        "# in p according to the color in the corresponding cell in world,\n",
        "# followed by normalization of the probability values\n",
        "import numpy as np\n",
        "world=['green', 'red', 'red', 'green', 'green']\n",
        "p = [0.2, 0.2, 0.2, 0.2, 0.2]\n",
        "same = 0.75\n",
        "diff = 0.25\n",
        "def sense(p, Z):\n",
        "    q = []\n",
        "    for i in range(len(p)):\n",
        "    #   if i == 0: \n",
        "    #     previous = world[len(p) - 1]\n",
        "    #   else:\n",
        "    #     previous = world[i - 1]\n",
        "\n",
        "      previous = world[i]\n",
        "      if(Z == previous):\n",
        "        q.append(same * p[i])\n",
        "      else:\n",
        "        q.append(diff * p[i])\n",
        "    q = q/np.sum(q)\n",
        "    return q\n",
        "            \n",
        "print(sense(p, 'red'))\n",
        "print(sense(p, 'green'))"
      ],
      "execution_count": 28,
      "outputs": [
        {
          "output_type": "stream",
          "text": [
            "[0.11111111 0.33333333 0.33333333 0.11111111 0.11111111]\n",
            "[0.27272727 0.09090909 0.09090909 0.27272727 0.27272727]\n"
          ],
          "name": "stdout"
        }
      ]
    },
    {
      "cell_type": "markdown",
      "metadata": {
        "id": "-9haUPJMZTk8",
        "colab_type": "text"
      },
      "source": [
        "Update probability for multiple measurements."
      ]
    },
    {
      "cell_type": "code",
      "metadata": {
        "id": "6R0eAljYAMb6",
        "colab_type": "code",
        "outputId": "76465d21-5f85-4b01-e0d2-2bd3acdb11de",
        "colab": {
          "base_uri": "https://localhost:8080/",
          "height": 34
        }
      },
      "source": [
        "# Modify the code so that it updates the probability twice\n",
        "# and gives the posterior distribution after both \n",
        "# measurements are incorporated. Make sure that your code \n",
        "# allows for any sequence of measurement of any length.\n",
        "\n",
        "# Do not modify the sense function. Call it correctly.\n",
        "\n",
        "p=[0.2, 0.2, 0.2, 0.2, 0.2]\n",
        "world=['green', 'red', 'red', 'green', 'green']\n",
        "measurements = ['red', 'green']\n",
        "\n",
        "for i in measurements:\n",
        "  p = sense(p,i) \n",
        "print(p)"
      ],
      "execution_count": 30,
      "outputs": [
        {
          "output_type": "stream",
          "text": [
            "[0.2 0.2 0.2 0.2 0.2]\n"
          ],
          "name": "stdout"
        }
      ]
    },
    {
      "cell_type": "code",
      "metadata": {
        "id": "09T5xJwcDUmT",
        "colab_type": "code",
        "outputId": "d9220de1-d1ae-4238-8984-8ab15d62c178",
        "colab": {
          "base_uri": "https://localhost:8080/",
          "height": 34
        }
      },
      "source": [
        "# Program a function that returns a new distribution \n",
        "# q, shifted to the right by U units. If U = 0, q should \n",
        "# be the same as p.\n",
        "\n",
        "def move(p, U):\n",
        "    q = []\n",
        "    U = U % len(p)\n",
        "    q = np.roll(p, U)\n",
        "    return q\n",
        "\n",
        "move([0.11, 0.33, 0.33, 0.11, 0.11], 1)"
      ],
      "execution_count": 31,
      "outputs": [
        {
          "output_type": "execute_result",
          "data": {
            "text/plain": [
              "array([0.11, 0.11, 0.33, 0.33, 0.11])"
            ]
          },
          "metadata": {
            "tags": []
          },
          "execution_count": 31
        }
      ]
    },
    {
      "cell_type": "markdown",
      "metadata": {
        "id": "HdlpeqKxPHno",
        "colab_type": "text"
      },
      "source": [
        "**Solution:**\n",
        "\n",
        "We can apply the Theorem of total probability at each grid cell given the robot instruction. For example, we are interested in computing the probability that the robot is at grid cell $2$. Now the robot can come here from the following gird cells:\n",
        "- Grid cell $1$: The instruction is to move right by $2$, and hence a robot at cell $1$ can reach this grid cell with a probability of $0.1$(this is by undershooting)\n",
        "- Grid cell $0$ : The instruction is to move right by $2$, and hence a robot at cell $0$ can reach this grid cell with a probability of $0.8$(this is case when robot motion is exact)\n",
        "- Grid cell $4$ : The instruction is to move right by $2$, and hence a robot at cell $4$ can reach this grid cell with a probability of $0.1$(this is by overshooting). Remember that the world is cyclic.\n",
        "\n",
        "Required Probability ($P$) is given as follows:\n",
        "\\begin{equation}\n",
        "P = 1.0 * 0.1 + 0.0 * 0.8 + 0.0 * 0.1 = 0.1\n",
        "\\end{equation}"
      ]
    },
    {
      "cell_type": "code",
      "metadata": {
        "id": "Fhz6XkGKPJKh",
        "colab_type": "code",
        "outputId": "c083655c-6f01-4948-c5b1-a35f10246eac",
        "colab": {
          "base_uri": "https://localhost:8080/",
          "height": 34
        }
      },
      "source": [
        "# Modify the move function to accommodate the added \n",
        "# probabilities of overshooting or undershooting \n",
        "# the intended destination.\n",
        "\n",
        "def move(p, U):\n",
        "    q = np.array([])\n",
        "    n = len(p)\n",
        "    for i in range(n):\n",
        "        q = np.append(q, p[(i-U)%n]*0.8 + p[(i-U-1)%n]*0.1 + p[(i-U+1)%n]*0.1)\n",
        "    return q\n",
        "\n",
        "move([0, 1.0, 0, 0, 0], 1)"
      ],
      "execution_count": 34,
      "outputs": [
        {
          "output_type": "execute_result",
          "data": {
            "text/plain": [
              "array([0. , 0.1, 0.8, 0.1, 0. ])"
            ]
          },
          "metadata": {
            "tags": []
          },
          "execution_count": 34
        }
      ]
    },
    {
      "cell_type": "code",
      "metadata": {
        "id": "o1SEBFRyPQJR",
        "colab_type": "code",
        "outputId": "df0ac7a5-5c7e-4f1e-f3a7-a9a174004a66",
        "colab": {
          "base_uri": "https://localhost:8080/",
          "height": 34
        }
      },
      "source": [
        "# Write code that makes the robot move twice and then prints \n",
        "# out the resulting distribution, starting with the initial \n",
        "# distribution p = [0, 1, 0, 0, 0]\n",
        "\n",
        "# Call the function appropriately from here\n",
        "move(move([0, 1.0, 0, 0, 0], 1), 1)"
      ],
      "execution_count": 36,
      "outputs": [
        {
          "output_type": "execute_result",
          "data": {
            "text/plain": [
              "array([0.01, 0.01, 0.16, 0.66, 0.16])"
            ]
          },
          "metadata": {
            "tags": []
          },
          "execution_count": 36
        }
      ]
    },
    {
      "cell_type": "code",
      "metadata": {
        "id": "w9r5hSUXRCz-",
        "colab_type": "code",
        "outputId": "c1f37e9c-4fd5-4df7-8974-38916e623613",
        "colab": {
          "base_uri": "https://localhost:8080/",
          "height": 34
        }
      },
      "source": [
        "# Write code that moves 1000 times and then prints the \n",
        "# resulting probability distribution.\n",
        "\n",
        "p = [0, 1, 0, 0, 0]\n",
        "for i in range(1000):\n",
        "    p = move(p, 1)\n",
        "print(p)"
      ],
      "execution_count": 38,
      "outputs": [
        {
          "output_type": "stream",
          "text": [
            "[0.2 0.2 0.2 0.2 0.2]\n"
          ],
          "name": "stdout"
        }
      ]
    },
    {
      "cell_type": "code",
      "metadata": {
        "id": "8LQsvpbdRPzS",
        "colab_type": "code",
        "colab": {
          "base_uri": "https://localhost:8080/",
          "height": 34
        },
        "outputId": "e7c16b93-3907-4a80-a55a-41b3ab0c8a8a"
      },
      "source": [
        "#Given the list motions=[1,1] which means the robot \n",
        "#moves right and then right again, compute the posterior \n",
        "#distribution if the robot first senses red, then moves \n",
        "#right one, then senses green, then moves right again, \n",
        "#starting with a uniform prior distribution.\n",
        "\n",
        "world=['green', 'red', 'red', 'green', 'green']\n",
        "measurements = ['red', 'green']\n",
        "motions = [1, 1]\n",
        "\n",
        "p = init_distribution(len(world))\n",
        "for i in range(len(motions)):\n",
        "    q = sense(p, measurements[i])\n",
        "    qNew = move(q, motions[i])\n",
        "    p = qNew\n",
        "print(p)\n"
      ],
      "execution_count": 41,
      "outputs": [
        {
          "output_type": "stream",
          "text": [
            "[0.21157895 0.15157895 0.08105263 0.16842105 0.38736842]\n"
          ],
          "name": "stdout"
        }
      ]
    },
    {
      "cell_type": "markdown",
      "metadata": {
        "id": "a0yH409md778",
        "colab_type": "text"
      },
      "source": [
        "### Two Dimensional Robot Localization"
      ]
    },
    {
      "cell_type": "code",
      "metadata": {
        "id": "4H97go74eAxP",
        "colab_type": "code",
        "colab": {}
      },
      "source": [
        "# Finsh this"
      ],
      "execution_count": 0,
      "outputs": []
    }
  ]
}