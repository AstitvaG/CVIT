{
 "cells": [
  {
   "cell_type": "markdown",
   "metadata": {
    "ExecuteTime": {
     "end_time": "2020-06-04T05:42:53.300722Z",
     "start_time": "2020-06-04T05:42:53.293572Z"
    },
    "colab_type": "text",
    "id": "WZxWBE9nqeWP"
   },
   "source": [
    "<div align=\"center\"><h1> Convolutional Neural Nets </h1></div>"
   ]
  },
  {
   "cell_type": "code",
   "execution_count": 0,
   "metadata": {
    "colab": {},
    "colab_type": "code",
    "id": "vrV4jJvYsKja"
   },
   "outputs": [],
   "source": [
    "from google.colab import drive\n",
    "drive.mount('/content/drive')"
   ]
  },
  {
   "cell_type": "markdown",
   "metadata": {
    "colab_type": "text",
    "id": "di4sgLjnqeWR"
   },
   "source": [
    "# Filtering"
   ]
  },
  {
   "cell_type": "code",
   "execution_count": 0,
   "metadata": {
    "ExecuteTime": {
     "end_time": "2020-06-04T18:00:15.384152Z",
     "start_time": "2020-06-04T18:00:14.613480Z"
    },
    "colab": {},
    "colab_type": "code",
    "id": "SEB034eNqeWU"
   },
   "outputs": [],
   "source": [
    "!pip install opencv-contrib-python-headless"
   ]
  },
  {
   "cell_type": "code",
   "execution_count": 0,
   "metadata": {
    "ExecuteTime": {
     "end_time": "2020-06-04T18:00:15.992347Z",
     "start_time": "2020-06-04T18:00:15.641237Z"
    },
    "colab": {},
    "colab_type": "code",
    "id": "biCfctf3qeWj"
   },
   "outputs": [],
   "source": [
    "import cv2\n",
    "import numpy as np\n",
    "import matplotlib.pyplot as plt\n",
    "from IPython.display import Image"
   ]
  },
  {
   "cell_type": "code",
   "execution_count": 0,
   "metadata": {
    "ExecuteTime": {
     "end_time": "2020-06-04T18:00:16.100352Z",
     "start_time": "2020-06-04T18:00:16.094139Z"
    },
    "colab": {},
    "colab_type": "code",
    "id": "DhXyk7UUqeWq"
   },
   "outputs": [],
   "source": [
    "def apply_filer(img, filter):\n",
    "    oimg = cv2.filter2D(img, -1, filter)\n",
    "    return oimg"
   ]
  },
  {
   "cell_type": "markdown",
   "metadata": {
    "colab_type": "text",
    "id": "1OjTBdjUqeWy"
   },
   "source": [
    "### Detection using filters"
   ]
  },
  {
   "cell_type": "markdown",
   "metadata": {
    "colab_type": "text",
    "id": "d0dZSZ-LqeWz"
   },
   "source": [
    "We already know that we can use filters to detect arbitarily complex shapes.  \n",
    "Let's take the example of a square detector."
   ]
  },
  {
   "cell_type": "code",
   "execution_count": 4,
   "metadata": {
    "ExecuteTime": {
     "end_time": "2020-06-05T06:58:32.908371Z",
     "start_time": "2020-06-05T06:58:32.757079Z"
    },
    "colab": {
     "base_uri": "https://localhost:8080/",
     "height": 285
    },
    "colab_type": "code",
    "id": "gplop1krqeW0",
    "outputId": "3046d235-9134-4378-9bab-4ec1c2e03689"
   },
   "outputs": [
    {
     "data": {
      "text/plain": [
       "<matplotlib.image.AxesImage at 0x7f31399c89e8>"
      ]
     },
     "execution_count": 4,
     "metadata": {
      "tags": []
     },
     "output_type": "execute_result"
    },
    {
     "data": {
      "image/png": "[encoded data removed]",
      "text/plain": [
       "<Figure size 432x288 with 1 Axes>"
      ]
     },
     "metadata": {
      "needs_background": "light",
      "tags": []
     },
     "output_type": "display_data"
    }
   ],
   "source": [
    "img = np.ones((100,100))\n",
    "for i in range(1,4):\n",
    "    img[i*20:i*20+10, i*20:i*20+10] = 0\n",
    "\n",
    "plt.imshow(img, cmap=\"gray\")\n"
   ]
  },
  {
   "cell_type": "code",
   "execution_count": 5,
   "metadata": {
    "ExecuteTime": {
     "end_time": "2020-06-05T06:58:32.939684Z",
     "start_time": "2020-06-05T06:58:32.934283Z"
    },
    "colab": {
     "base_uri": "https://localhost:8080/",
     "height": 208
    },
    "colab_type": "code",
    "id": "tlDNTGGhqeW7",
    "outputId": "20da2b3e-abe7-402c-8edf-708d85ab578b"
   },
   "outputs": [
    {
     "data": {
      "text/plain": [
       "array([[ 1.,  1.,  1.,  1.,  1.,  1.,  1.,  1.,  1.,  1.,  1.],\n",
       "       [ 1., -1., -1., -1., -1., -1., -1., -1., -1., -1.,  1.],\n",
       "       [ 1., -1., -1., -1., -1., -1., -1., -1., -1., -1.,  1.],\n",
       "       [ 1., -1., -1., -1., -1., -1., -1., -1., -1., -1.,  1.],\n",
       "       [ 1., -1., -1., -1., -1., -1., -1., -1., -1., -1.,  1.],\n",
       "       [ 1., -1., -1., -1., -1., -1., -1., -1., -1., -1.,  1.],\n",
       "       [ 1., -1., -1., -1., -1., -1., -1., -1., -1., -1.,  1.],\n",
       "       [ 1., -1., -1., -1., -1., -1., -1., -1., -1., -1.,  1.],\n",
       "       [ 1., -1., -1., -1., -1., -1., -1., -1., -1., -1.,  1.],\n",
       "       [ 1., -1., -1., -1., -1., -1., -1., -1., -1., -1.,  1.],\n",
       "       [ 1.,  1.,  1.,  1.,  1.,  1.,  1.,  1.,  1.,  1.,  1.]])"
      ]
     },
     "execution_count": 5,
     "metadata": {
      "tags": []
     },
     "output_type": "execute_result"
    }
   ],
   "source": [
    "# all_zeros = np.zeros((11,11))\n",
    "square_detector = -np.ones((11,11))\n",
    "square_detector[-1, :] = 1\n",
    "square_detector[0, :] = 1\n",
    "square_detector[:, -1] = 1\n",
    "square_detector[:, 0] = 1\n",
    "square_detector"
   ]
  },
  {
   "cell_type": "code",
   "execution_count": 6,
   "metadata": {
    "ExecuteTime": {
     "end_time": "2020-06-05T06:58:40.189753Z",
     "start_time": "2020-06-05T06:58:40.064567Z"
    },
    "colab": {
     "base_uri": "https://localhost:8080/",
     "height": 285
    },
    "colab_type": "code",
    "id": "3u7HELemqeXC",
    "outputId": "07fb9c86-9cbc-41c4-903f-c28a915356b1"
   },
   "outputs": [
    {
     "data": {
      "text/plain": [
       "<matplotlib.image.AxesImage at 0x7f3139516eb8>"
      ]
     },
     "execution_count": 6,
     "metadata": {
      "tags": []
     },
     "output_type": "execute_result"
    },
    {
     "data": {
      "image/png": "[encoded data removed]",
      "text/plain": [
       "<Figure size 432x288 with 1 Axes>"
      ]
     },
     "metadata": {
      "needs_background": "light",
      "tags": []
     },
     "output_type": "display_data"
    }
   ],
   "source": [
    "oimg = apply_filer(img, square_detector)\n",
    "oimg = oimg * (oimg>0)\n",
    "plt.imshow(oimg, cmap=\"gray\")"
   ]
  },
  {
   "cell_type": "markdown",
   "metadata": {
    "colab_type": "text",
    "id": "GVwtAdBRqeXH"
   },
   "source": [
    "### Heirarchical Features"
   ]
  },
  {
   "cell_type": "markdown",
   "metadata": {
    "colab_type": "text",
    "id": "5WnMgqFmqeXJ"
   },
   "source": [
    "Another approach to solve the above problem is to use very simple filters and then use the information captured by each of them using another simple filter, to finally get the desired output."
   ]
  },
  {
   "cell_type": "code",
   "execution_count": 7,
   "metadata": {
    "ExecuteTime": {
     "end_time": "2020-06-04T18:31:21.255259Z",
     "start_time": "2020-06-04T18:31:21.251429Z"
    },
    "colab": {
     "base_uri": "https://localhost:8080/",
     "height": 69
    },
    "colab_type": "code",
    "id": "fIrGpYXHqeXK",
    "outputId": "2d4336dc-fcf0-4daf-fbb8-dc0e0a69ab28"
   },
   "outputs": [
    {
     "data": {
      "text/plain": [
       "array([[-1,  0,  1],\n",
       "       [-1,  0,  1],\n",
       "       [-1,  0,  1]])"
      ]
     },
     "execution_count": 7,
     "metadata": {
      "tags": []
     },
     "output_type": "execute_result"
    }
   ],
   "source": [
    "verticle_filter = np.array([[-1, 0, 1], [-1, 0, 1], [-1, 0, 1]])\n",
    "verticle_filter"
   ]
  },
  {
   "cell_type": "code",
   "execution_count": 8,
   "metadata": {
    "ExecuteTime": {
     "end_time": "2020-06-04T18:31:21.682074Z",
     "start_time": "2020-06-04T18:31:21.540531Z"
    },
    "colab": {
     "base_uri": "https://localhost:8080/",
     "height": 285
    },
    "colab_type": "code",
    "id": "_C3M-04UqeXO",
    "outputId": "202b3763-501c-41da-e9fe-aee76c6cabdd"
   },
   "outputs": [
    {
     "data": {
      "text/plain": [
       "<matplotlib.image.AxesImage at 0x7f313947c860>"
      ]
     },
     "execution_count": 8,
     "metadata": {
      "tags": []
     },
     "output_type": "execute_result"
    },
    {
     "data": {
      "image/png": "[encoded data removed]",
      "text/plain": [
       "<Figure size 432x288 with 1 Axes>"
      ]
     },
     "metadata": {
      "needs_background": "light",
      "tags": []
     },
     "output_type": "display_data"
    }
   ],
   "source": [
    "oimg1 = apply_filer(img, verticle_filter)\n",
    "oimg1 = oimg1 * (oimg1 >=0)\n",
    "plt.imshow(oimg1, cmap=\"gray\")"
   ]
  },
  {
   "cell_type": "code",
   "execution_count": 9,
   "metadata": {
    "ExecuteTime": {
     "end_time": "2020-06-05T03:53:09.320603Z",
     "start_time": "2020-06-05T03:53:09.311801Z"
    },
    "colab": {
     "base_uri": "https://localhost:8080/",
     "height": 69
    },
    "colab_type": "code",
    "id": "DXN2GYzaqeXU",
    "outputId": "e696b131-9352-42ff-8660-27c3492d060f"
   },
   "outputs": [
    {
     "data": {
      "text/plain": [
       "array([[-1, -1, -1],\n",
       "       [ 0,  0,  0],\n",
       "       [ 1,  1,  1]])"
      ]
     },
     "execution_count": 9,
     "metadata": {
      "tags": []
     },
     "output_type": "execute_result"
    }
   ],
   "source": [
    "horizontal_filter = np.array([[-1, -1, -1], [0, 0, 0], [1, 1, 1]])\n",
    "horizontal_filter"
   ]
  },
  {
   "cell_type": "code",
   "execution_count": 10,
   "metadata": {
    "ExecuteTime": {
     "end_time": "2020-06-05T03:53:09.820999Z",
     "start_time": "2020-06-05T03:53:09.688831Z"
    },
    "colab": {
     "base_uri": "https://localhost:8080/",
     "height": 285
    },
    "colab_type": "code",
    "id": "7FrhjFhnqeXZ",
    "outputId": "151000c7-6df8-40b3-d563-b739e72e26b7"
   },
   "outputs": [
    {
     "data": {
      "text/plain": [
       "<matplotlib.image.AxesImage at 0x7f3139459f60>"
      ]
     },
     "execution_count": 10,
     "metadata": {
      "tags": []
     },
     "output_type": "execute_result"
    },
    {
     "data": {
      "image/png": "[encoded data removed]",
      "text/plain": [
       "<Figure size 432x288 with 1 Axes>"
      ]
     },
     "metadata": {
      "needs_background": "light",
      "tags": []
     },
     "output_type": "display_data"
    }
   ],
   "source": [
    "oimg2 = apply_filer(img, horizontal_filter)\n",
    "oimg2 = oimg2 * (oimg2 >=0)\n",
    "plt.imshow(oimg2, cmap=\"gray\")"
   ]
  },
  {
   "cell_type": "code",
   "execution_count": 11,
   "metadata": {
    "ExecuteTime": {
     "end_time": "2020-06-05T03:53:10.276206Z",
     "start_time": "2020-06-05T03:53:10.146201Z"
    },
    "colab": {
     "base_uri": "https://localhost:8080/",
     "height": 337
    },
    "colab_type": "code",
    "id": "33JU-dlLqeXf",
    "outputId": "4f637f52-a2f2-43cf-a22b-43f7a554ece5"
   },
   "outputs": [
    {
     "name": "stdout",
     "output_type": "stream",
     "text": [
      "[[ 1  0 -1]\n",
      " [ 1  0 -1]\n",
      " [ 1  0 -1]]\n"
     ]
    },
    {
     "data": {
      "text/plain": [
       "<matplotlib.image.AxesImage at 0x7f31393b7978>"
      ]
     },
     "execution_count": 11,
     "metadata": {
      "tags": []
     },
     "output_type": "execute_result"
    },
    {
     "data": {
      "image/png": "[encoded data removed]",
      "text/plain": [
       "<Figure size 432x288 with 1 Axes>"
      ]
     },
     "metadata": {
      "needs_background": "light",
      "tags": []
     },
     "output_type": "display_data"
    }
   ],
   "source": [
    "verticle_filter = np.array([[1, 0, -1], [1, 0, -1], [1, 0, -1]])\n",
    "print(verticle_filter)\n",
    "oimg3 = apply_filer(img, verticle_filter)\n",
    "oimg3 = oimg3 * (oimg3 >=0)\n",
    "plt.imshow(oimg3, cmap=\"gray\")"
   ]
  },
  {
   "cell_type": "code",
   "execution_count": 12,
   "metadata": {
    "ExecuteTime": {
     "end_time": "2020-06-05T04:02:54.770738Z",
     "start_time": "2020-06-05T04:02:54.641417Z"
    },
    "colab": {
     "base_uri": "https://localhost:8080/",
     "height": 285
    },
    "colab_type": "code",
    "id": "67y_Zt-VqeXk",
    "outputId": "251f4aa7-8e28-460b-a024-6f55d99d459b"
   },
   "outputs": [
    {
     "data": {
      "text/plain": [
       "(100, 100, 3)"
      ]
     },
     "execution_count": 12,
     "metadata": {
      "tags": []
     },
     "output_type": "execute_result"
    },
    {
     "data": {
      "image/png": "[encoded data removed]",
      "text/plain": [
       "<Figure size 432x288 with 1 Axes>"
      ]
     },
     "metadata": {
      "needs_background": "light",
      "tags": []
     },
     "output_type": "display_data"
    }
   ],
   "source": [
    "fimg = np.dstack((oimg1/oimg1.max(), oimg2/oimg2.max(), oimg3/oimg3.max()))\n",
    "plt.imshow(fimg)\n",
    "fimg.shape"
   ]
  },
  {
   "cell_type": "markdown",
   "metadata": {
    "colab_type": "text",
    "id": "goK6r0-7qeXp"
   },
   "source": [
    "**Filter for bottom right corner detection**\n",
    "\n",
    "*R channel*\n",
    "$$\n",
    "\\begin{pmatrix}\n",
    "-1 & 1 & 0 \\\\\n",
    "-1 & 0 & 0 \\\\\n",
    "-1 & -1 & -1\n",
    "\\end{pmatrix}\n",
    "$$\n",
    "\n",
    "*G channel*\n",
    "$$\n",
    "\\begin{pmatrix}\n",
    "-1 & -1 & -1 \\\\\n",
    "1 & 0 & -1 \\\\\n",
    "0 & 0 & -1\n",
    "\\end{pmatrix}\n",
    "$$\n",
    "\n",
    "*B channel*\n",
    "$$\n",
    "\\begin{pmatrix}\n",
    "0 & 0 & 0 \\\\\n",
    "0 & 0 & 0 \\\\\n",
    "0 & 0 & 0\n",
    "\\end{pmatrix}\n",
    "$$"
   ]
  },
  {
   "cell_type": "code",
   "execution_count": 13,
   "metadata": {
    "ExecuteTime": {
     "end_time": "2020-06-05T04:03:47.625573Z",
     "start_time": "2020-06-05T04:03:47.424735Z"
    },
    "colab": {
     "base_uri": "https://localhost:8080/",
     "height": 337
    },
    "colab_type": "code",
    "id": "p9g-i9oZqeXq",
    "outputId": "c9f367c3-ae6f-46e7-9e18-048adcb3ce6e"
   },
   "outputs": [
    {
     "name": "stdout",
     "output_type": "stream",
     "text": [
      "[[-1. -1. -1.]\n",
      " [ 1.  0. -1.]\n",
      " [ 0.  0. -1.]]\n"
     ]
    },
    {
     "data": {
      "text/plain": [
       "(100, 100)"
      ]
     },
     "execution_count": 13,
     "metadata": {
      "tags": []
     },
     "output_type": "execute_result"
    },
    {
     "data": {
      "image/png": "[encoded data removed]",
      "text/plain": [
       "<Figure size 432x288 with 1 Axes>"
      ]
     },
     "metadata": {
      "needs_background": "light",
      "tags": []
     },
     "output_type": "display_data"
    }
   ],
   "source": [
    "corner_filter = np.zeros((3,3,3))\n",
    "corner_filter[:,0,0] = -1\n",
    "corner_filter[2,:,0] = -1\n",
    "corner_filter[0,1,0] = 1\n",
    "\n",
    "corner_filter[0,:,1] = -1\n",
    "corner_filter[:,2,1] = -1\n",
    "corner_filter[1,0,1] = 1\n",
    "print(corner_filter[:, :, 1])\n",
    "\n",
    "\n",
    "ffimg = np.zeros((fimg.shape[0], fimg.shape[1]))\n",
    "for i in range(fimg.shape[0]-2):\n",
    "    for j in range(fimg.shape[1]-2):\n",
    "        ffimg[i, j] = np.sum(fimg[i:i+3, j:j+3, :]*corner_filter)\n",
    "            \n",
    "ffimg = ffimg * (ffimg>0)\n",
    "plt.imshow((ffimg-fimg.min())/(fimg.max()-fimg.min()), cmap=\"gray\")\n",
    "ffimg.shape"
   ]
  },
  {
   "cell_type": "markdown",
   "metadata": {
    "colab_type": "text",
    "id": "6fsJ2FpvqeXv"
   },
   "source": [
    "So if we use the information by the 3 filters together our detectors will be able to work better  \n"
   ]
  },
  {
   "cell_type": "markdown",
   "metadata": {
    "colab_type": "text",
    "id": "43KqE8H-qeXw"
   },
   "source": [
    "### Conclusion\n",
    "1. We can have arbitarily complex filters to detect various features.\n",
    "2. We can stack the filtered images to pass on more information to processes downstream"
   ]
  },
  {
   "cell_type": "markdown",
   "metadata": {
    "colab_type": "text",
    "id": "cEwPkFDlqeXx"
   },
   "source": [
    "### Why we need CNNs? Why MLPs might be bad?"
   ]
  },
  {
   "cell_type": "markdown",
   "metadata": {
    "colab_type": "text",
    "id": "Q-YFBsvqqeXx"
   },
   "source": [
    "### Problems"
   ]
  },
  {
   "cell_type": "markdown",
   "metadata": {
    "colab_type": "text",
    "id": "WdEgbug9qeXz"
   },
   "source": [
    "### 1. MLPs get too big with too many parameters."
   ]
  },
  {
   "cell_type": "markdown",
   "metadata": {
    "ExecuteTime": {
     "end_time": "2020-06-04T13:28:28.750708Z",
     "start_time": "2020-06-04T13:28:28.746541Z"
    },
    "colab_type": "text",
    "id": "EP388L8WqeX0"
   },
   "source": [
    "Let's say we have images of size 28*28 (MNIST). We use the following architecture on it. Roughly how many parameters are there?\n",
    "\n",
    "![](./Pictures/mnist_mlp.png)\n",
    "\n",
    "So basically, if we try to make the network even slightly deeper, we end up with too many params.  \n",
    "Depth might be desirable due to heirarchy of features. But if there are too many params, then overfitting can happen.\n",
    "\n",
    "![](./Pictures/goodfit.png)\n",
    "![](./Pictures/overfit.png) "
   ]
  },
  {
   "cell_type": "markdown",
   "metadata": {
    "colab_type": "text",
    "id": "9Gws8qJgqeX0"
   },
   "source": [
    "### 2. MLPs are bad at capturing spatial relations."
   ]
  },
  {
   "cell_type": "markdown",
   "metadata": {
    "colab_type": "text",
    "id": "ohv0aPCWqeX2"
   },
   "source": [
    "$$\n",
    "\\begin{equation}\n",
    "\\begin{pmatrix}\n",
    "1 & 2 & 3 & 4 \\\\\n",
    "5 & 6 & 7 & 8\n",
    "\\end{pmatrix} \\rightarrow\n",
    "\\begin{pmatrix}\n",
    "1 & 2 & 3 & 4 & 5 & 6 & 7 & 8\n",
    "\\end{pmatrix}\n",
    "\\end{equation}\n",
    "$$"
   ]
  },
  {
   "cell_type": "markdown",
   "metadata": {
    "colab_type": "text",
    "id": "iuRKLheiqeX2"
   },
   "source": [
    "## Solutions\n",
    "What if we just learn the filters?\n",
    "\n",
    "### Weight Sharing.\n",
    "We don't have different weights for each input neuron. We are just learning the filters. So we are \"sharing\" weights between inputs.\n",
    "\n",
    "![](./Pictures/conv.png)\n",
    "### Pooling.\n",
    "This helps in making features \"position invariant\". Let's say we are detecting a bird.  \n",
    "We would like the head filter to give a high response to both the heads (even though they are flipped). Also, we want the full bird detector to give a high respnse for both the birds, even though they are completely flipped. \n",
    "![](./Pictures/bird.jpg)\n",
    "![](./Pictures/max-pooling.png)"
   ]
  },
  {
   "cell_type": "markdown",
   "metadata": {
    "colab_type": "text",
    "id": "Y44WRZJaqeX3"
   },
   "source": [
    "# General Architecture of CNNs"
   ]
  },
  {
   "cell_type": "markdown",
   "metadata": {
    "ExecuteTime": {
     "end_time": "2020-06-04T13:32:44.776778Z",
     "start_time": "2020-06-04T13:32:44.774919Z"
    },
    "colab_type": "text",
    "id": "4hWpnHahqeX3"
   },
   "source": [
    "![](./Pictures/cnn.png)\n"
   ]
  },
  {
   "cell_type": "markdown",
   "metadata": {
    "colab_type": "text",
    "id": "PXDX6U5fqeX4"
   },
   "source": [
    "The main thing to note here is that, we have fully connected layers at the end. Which is your basic MLP. So instead of directly flattening the input image and appling MLP on it, we are applying some \"filters\" (which are learned by the network), and then getting some \"features\" (Which are high level and position invariant). We use these \"features\" as input to a standard mlp. So CNNs are basically feature extractors."
   ]
  }
 ],
 "metadata": {
  "colab": {
   "name": "CNN Introduction.ipynb",
   "provenance": []
  },
  "kernelspec": {
   "display_name": "Python 3",
   "language": "python",
   "name": "python3"
  },
  "language_info": {
   "codemirror_mode": {
    "name": "ipython",
    "version": 3
   },
   "file_extension": ".py",
   "mimetype": "text/x-python",
   "name": "python",
   "nbconvert_exporter": "python",
   "pygments_lexer": "ipython3",
   "version": "3.6.9"
  }
 },
 "nbformat": 4,
 "nbformat_minor": 1
}
