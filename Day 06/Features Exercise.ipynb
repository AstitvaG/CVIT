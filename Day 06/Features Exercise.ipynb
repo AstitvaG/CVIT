{
  "nbformat": 4,
  "nbformat_minor": 0,
  "metadata": {
    "colab": {
      "name": "Features Exercise",
      "provenance": [],
      "collapsed_sections": []
    },
    "kernelspec": {
      "name": "python3",
      "display_name": "Python 3"
    }
  },
  "cells": [
    {
      "cell_type": "code",
      "metadata": {
        "id": "ocg_e9pZ2w9x",
        "colab_type": "code",
        "cellView": "both",
        "outputId": "a6d80c74-c373-4514-dd1e-dc018f1a5bbf",
        "colab": {
          "base_uri": "https://localhost:8080/",
          "height": 305
        }
      },
      "source": [
        "#@title E1: Which of these features are related to the objective?\n",
        "\n",
        "from IPython.core.display import display, HTML\n",
        "display(HTML(\"\"\"\n",
        "<html>\n",
        "<body>\n",
        "\n",
        "<h3>Objective: Predict total number of customers who will use a certain discount coupon</h3>\n",
        "\n",
        "<form>\n",
        "  <input type=\"checkbox\">\n",
        "  <label> Font of the text with which the discount is advertised on partner websites</label><br>\n",
        "  <input type=\"checkbox\" checked>\n",
        "  <label > Price of the item the coupon applies to</label><br>\n",
        "  <input type=\"checkbox\" checked>\n",
        "  <label> Number of items in stock</label><br><br>\n",
        "</form>\n",
        "\n",
        "</body>\n",
        "</html>\n",
        "\n",
        "\"\"\"))\n",
        "\n",
        "display(HTML(\"\"\"\n",
        "<html>\n",
        "<body>\n",
        "\n",
        "<h3>Objective:  Predict point-of-sale credit card fraudulent activity</h3>\n",
        "\n",
        "<form>\n",
        "  <input type=\"checkbox\" checked>\n",
        "  <label> Whether cardholder has purchased these items at this store before</label><br>\n",
        "  <input type=\"checkbox\">\n",
        "  <label> Credit card chip reader speed</label><br>\n",
        "  <input type=\"checkbox\" checked>\n",
        "  <label> Category of item being purchased</label><br>\n",
        "  <input type=\"checkbox\">\n",
        "  <label>Expiry date of credit card </label><br><br>\n",
        "</form>\n",
        "</body>\n",
        "</html>\n",
        "\n",
        "\"\"\"))\n"
      ],
      "execution_count": 27,
      "outputs": [
        {
          "output_type": "display_data",
          "data": {
            "text/html": [
              "\n",
              "<html>\n",
              "<body>\n",
              "\n",
              "<h3>Objective: Predict total number of customers who will use a certain discount coupon</h3>\n",
              "\n",
              "<form>\n",
              "  <input type=\"checkbox\">\n",
              "  <label> Font of the text with which the discount is advertised on partner websites</label><br>\n",
              "  <input type=\"checkbox\" checked>\n",
              "  <label > Price of the item the coupon applies to</label><br>\n",
              "  <input type=\"checkbox\" checked>\n",
              "  <label> Number of items in stock</label><br><br>\n",
              "</form>\n",
              "\n",
              "</body>\n",
              "</html>\n",
              "\n"
            ],
            "text/plain": [
              "<IPython.core.display.HTML object>"
            ]
          },
          "metadata": {
            "tags": []
          }
        },
        {
          "output_type": "display_data",
          "data": {
            "text/html": [
              "\n",
              "<html>\n",
              "<body>\n",
              "\n",
              "<h3>Objective:  Predict point-of-sale credit card fraudulent activity</h3>\n",
              "\n",
              "<form>\n",
              "  <input type=\"checkbox\" checked>\n",
              "  <label> Whether cardholder has purchased these items at this store before</label><br>\n",
              "  <input type=\"checkbox\">\n",
              "  <label> Credit card chip reader speed</label><br>\n",
              "  <input type=\"checkbox\" checked>\n",
              "  <label> Category of item being purchased</label><br>\n",
              "  <input type=\"checkbox\">\n",
              "  <label>Expiry date of credit card </label><br><br>\n",
              "</form>\n",
              "</body>\n",
              "</html>\n",
              "\n"
            ],
            "text/plain": [
              "<IPython.core.display.HTML object>"
            ]
          },
          "metadata": {
            "tags": []
          }
        }
      ]
    },
    {
      "cell_type": "code",
      "metadata": {
        "id": "CEDX3QHI28x6",
        "colab_type": "code",
        "cellView": "both",
        "outputId": "cc3d4cc8-cd1e-4461-bdfe-a7f3de26b9f9",
        "colab": {
          "base_uri": "https://localhost:8080/",
          "height": 305
        }
      },
      "source": [
        "#@title E2: Are these features knowable at prediction time?\n",
        "from IPython.core.display import display, HTML\n",
        "display(HTML(\"\"\"\n",
        "<html>\n",
        "<body>\n",
        "\n",
        "<h3>Objective: Predict total number of customers who will use a certain discount coupon</h3>\n",
        "\n",
        "<form>\n",
        "  <input type=\"checkbox\">\n",
        "  <label> Total number of discountable items sold</label><br>\n",
        "  <input type=\"checkbox\" checked> \n",
        "  <label> Number of discountable items sold the previous month</label><br>\n",
        "  <input type=\"checkbox\">\n",
        "  <label> Number of customers who viewed ads about item</label><br><br>\n",
        "</form>\n",
        "\n",
        "</body>\n",
        "</html>\n",
        "\n",
        "\"\"\"))\n",
        "\n",
        "display(HTML(\"\"\"\n",
        "<html>\n",
        "<body>\n",
        "\n",
        "<h3>Objective:  Predict point-of-sale credit card fraudulent activity</h3>\n",
        "\n",
        "<form>\n",
        "  <input type=\"checkbox\" checked>\n",
        "  <label> Whether cardholder has purchased these items at this store before</label><br>\n",
        "  <input type=\"checkbox\">\n",
        "  <label> Whether item is new at store (and can not have been purchased before)</label><br>\n",
        "  <input type=\"checkbox\" checked>\n",
        "  <label> Category of item being purchased</label><br>\n",
        "  <input type=\"checkbox\">\n",
        "  <label>Online or in-person purchase</label><br><br>\n",
        "</form>\n",
        "\n",
        "</body>\n",
        "</html>\n",
        "\n",
        "\"\"\"))\n"
      ],
      "execution_count": 15,
      "outputs": [
        {
          "output_type": "display_data",
          "data": {
            "text/html": [
              "\n",
              "<html>\n",
              "<body>\n",
              "\n",
              "<h3>Objective: Predict total number of customers who will use a certain discount coupon</h3>\n",
              "\n",
              "<form>\n",
              "  <input type=\"checkbox\">\n",
              "  <label> Total number of discountable items sold</label><br>\n",
              "  <input type=\"checkbox\" checked> \n",
              "  <label> Number of discountable items sold the previous month</label><br>\n",
              "  <input type=\"checkbox\">\n",
              "  <label> Number of customers who viewed ads about item</label><br><br>\n",
              "</form>\n",
              "\n",
              "</body>\n",
              "</html>\n",
              "\n"
            ],
            "text/plain": [
              "<IPython.core.display.HTML object>"
            ]
          },
          "metadata": {
            "tags": []
          }
        },
        {
          "output_type": "display_data",
          "data": {
            "text/html": [
              "\n",
              "<html>\n",
              "<body>\n",
              "\n",
              "<h3>Objective:  Predict point-of-sale credit card fraudulent activity</h3>\n",
              "\n",
              "<form>\n",
              "  <input type=\"checkbox\" checked>\n",
              "  <label> Whether cardholder has purchased these items at this store before</label><br>\n",
              "  <input type=\"checkbox\">\n",
              "  <label> Whether item is new at store (and can not have been purchased before)</label><br>\n",
              "  <input type=\"checkbox\" checked>\n",
              "  <label> Category of item being purchased</label><br>\n",
              "  <input type=\"checkbox\">\n",
              "  <label>Online or in-person purchase</label><br><br>\n",
              "</form>\n",
              "\n",
              "</body>\n",
              "</html>\n",
              "\n"
            ],
            "text/plain": [
              "<IPython.core.display.HTML object>"
            ]
          },
          "metadata": {
            "tags": []
          }
        }
      ]
    },
    {
      "cell_type": "code",
      "metadata": {
        "id": "p3ft8pGEBgT8",
        "colab_type": "code",
        "cellView": "both",
        "outputId": "7f1c2ee9-1f27-468b-c8dd-eb34e5967144",
        "colab": {
          "base_uri": "https://localhost:8080/",
          "height": 198
        }
      },
      "source": [
        "#@title E3: Which of these features are numeric (or could be in a useful form)?\n",
        "from IPython.core.display import display, HTML\n",
        "display(HTML(\"\"\"\n",
        "<html>\n",
        "<body>\n",
        "\n",
        "<h3>Objective: Predict total number of customers who will use a certain discount coupon</h3>\n",
        "\n",
        "<form>\n",
        "  <input type=\"checkbox\" checked>\n",
        "  <label> Percent value of the discount (e.g. 10% off, 20% off, etc.)</label><br>\n",
        "  <input type=\"checkbox\"\n",
        "  <label> Size of the coupon (e.g. 4 cm2, 24 cm2, 48 cm2, etc.)</label><br>\n",
        "  <input type=\"checkbox\">\n",
        "  <label> Color of coupon (red, black, blue, etc.)</label><br>\n",
        "  <input type=\"checkbox\">  \n",
        "  <label> Item category (1 for dairy, 2 for deli, 3 for canned goods, etc.)</label><br>\n",
        "  <input type=\"checkbox\">\n",
        "  <label> Font an advertisement is in (Arial, Times New Roman, etc.)</label><br><br>\n",
        "</form>\n",
        "\n",
        "</body>\n",
        "</html>\n",
        "\n",
        "\"\"\"))\n",
        "\n"
      ],
      "execution_count": 16,
      "outputs": [
        {
          "output_type": "display_data",
          "data": {
            "text/html": [
              "\n",
              "<html>\n",
              "<body>\n",
              "\n",
              "<h3>Objective: Predict total number of customers who will use a certain discount coupon</h3>\n",
              "\n",
              "<form>\n",
              "  <input type=\"checkbox\" checked>\n",
              "  <label> Percent value of the discount (e.g. 10% off, 20% off, etc.)</label><br>\n",
              "  <input type=\"checkbox\"\n",
              "  <label> Size of the coupon (e.g. 4 cm2, 24 cm2, 48 cm2, etc.)</label><br>\n",
              "  <input type=\"checkbox\">\n",
              "  <label> Color of coupon (red, black, blue, etc.)</label><br>\n",
              "  <input type=\"checkbox\">  \n",
              "  <label> Item category (1 for dairy, 2 for deli, 3 for canned goods, etc.)</label><br>\n",
              "  <input type=\"checkbox\">\n",
              "  <label> Font an advertisement is in (Arial, Times New Roman, etc.)</label><br><br>\n",
              "</form>\n",
              "\n",
              "</body>\n",
              "</html>\n",
              "\n"
            ],
            "text/plain": [
              "<IPython.core.display.HTML object>"
            ]
          },
          "metadata": {
            "tags": []
          }
        }
      ]
    },
    {
      "cell_type": "code",
      "metadata": {
        "id": "UNmD33S9F4t4",
        "colab_type": "code",
        "cellView": "both",
        "outputId": "4553e9ec-74a6-4dcf-e99c-5c5214929cc5",
        "colab": {
          "base_uri": "https://localhost:8080/",
          "height": 329
        }
      },
      "source": [
        "#@title E4: Which of these will it be difficult to get enough examples for?\n",
        "\n",
        "from IPython.core.display import display, HTML\n",
        "display(HTML(\"\"\"\n",
        "<html>\n",
        "<body>\n",
        "\n",
        "<h3>Objective: Predict total number of customers who will use a certain discount coupon</h3>\n",
        "\n",
        "<form>\n",
        "  <input type=\"checkbox\" checked>\n",
        "  <label> Percent value of the discount (e.g. 10% off, 20% off, etc.)</label><br>\n",
        "  <input type=\"checkbox\" checked>\n",
        "  <label> Date that promotional offer starts</label><br>\n",
        "  <input type=\"checkbox\">\n",
        "  <label> Number of customers who opened advertising email</label><br>\n",
        "  <input type=\"checkbox\">  \n",
        "  <label> All of these we should be able enough examples for\n",
        "</label><br><br>\n",
        "</form>\n",
        "\n",
        "</body>\n",
        "</html>\n",
        "\n",
        "\"\"\"))\n",
        "display(HTML(\"\"\"\n",
        "<h3>Objective:  Predict point-of-sale credit card fraudulent activity</h3>\n",
        "\n",
        "<form>\n",
        "  <input type=\"checkbox\">\n",
        "  <label> Whether cardholder has purchased these items at this store before</label><br>\n",
        "  <input type=\"checkbox\" checked>\n",
        "  <label> Distance between cardholder address and store</label><br>\n",
        "  <input type=\"checkbox\">\n",
        "  <label> Category of item being purchased</label><br>\n",
        "  <input type=\"checkbox\">\n",
        "  <label>Online or in-person purchase</label><br><br>\n",
        "</form>\n",
        "\n",
        "</body>\n",
        "</html>\n",
        "\"\"\"))\n"
      ],
      "execution_count": 18,
      "outputs": [
        {
          "output_type": "display_data",
          "data": {
            "text/html": [
              "\n",
              "<html>\n",
              "<body>\n",
              "\n",
              "<h3>Objective: Predict total number of customers who will use a certain discount coupon</h3>\n",
              "\n",
              "<form>\n",
              "  <input type=\"checkbox\" checked>\n",
              "  <label> Percent value of the discount (e.g. 10% off, 20% off, etc.)</label><br>\n",
              "  <input type=\"checkbox\" checked>\n",
              "  <label> Date that promotional offer starts</label><br>\n",
              "  <input type=\"checkbox\">\n",
              "  <label> Number of customers who opened advertising email</label><br>\n",
              "  <input type=\"checkbox\">  \n",
              "  <label> All of these we should be able enough examples for\n",
              "</label><br><br>\n",
              "</form>\n",
              "\n",
              "</body>\n",
              "</html>\n",
              "\n"
            ],
            "text/plain": [
              "<IPython.core.display.HTML object>"
            ]
          },
          "metadata": {
            "tags": []
          }
        },
        {
          "output_type": "display_data",
          "data": {
            "text/html": [
              "\n",
              "<h3>Objective:  Predict point-of-sale credit card fraudulent activity</h3>\n",
              "\n",
              "<form>\n",
              "  <input type=\"checkbox\">\n",
              "  <label> Whether cardholder has purchased these items at this store before</label><br>\n",
              "  <input type=\"checkbox\" checked>\n",
              "  <label> Distance between cardholder address and store</label><br>\n",
              "  <input type=\"checkbox\">\n",
              "  <label> Category of item being purchased</label><br>\n",
              "  <input type=\"checkbox\">\n",
              "  <label>Online or in-person purchase</label><br><br>\n",
              "</form>\n",
              "\n",
              "</body>\n",
              "</html>\n"
            ],
            "text/plain": [
              "<IPython.core.display.HTML object>"
            ]
          },
          "metadata": {
            "tags": []
          }
        }
      ]
    },
    {
      "cell_type": "code",
      "metadata": {
        "id": "IAelCWVxt4rD",
        "colab_type": "code",
        "cellView": "both",
        "outputId": "7c85deed-fb0e-4751-8a64-0d096179fd75",
        "colab": {
          "base_uri": "https://localhost:8080/",
          "height": 526
        }
      },
      "source": [
        "#@title Quiz\n",
        "from IPython.core.display import display, HTML\n",
        "display(HTML(\"\"\"\n",
        "<html>\n",
        "<body>\n",
        "\n",
        "<h3>What are the characteristics of a good feature?</h3>\n",
        "\n",
        "<form>\n",
        "  <input type=\"checkbox\" checked>\n",
        "  <label> Related to the objective\n",
        "</label><br>\n",
        "  <input type=\"checkbox\" checked>\n",
        "  <label> Be numeric with meaningful magnitude\n",
        "</label><br>\n",
        "  <input type=\"checkbox\" checked>\n",
        "  <label> Have enough examples in the data\n",
        "</label><br><input type=\"checkbox\" checked>\n",
        "  <label> Knowable at prediction time\n",
        "</label><br>\n",
        "  <input type=\"checkbox\">  \n",
        "  <label> Be in free-text format\n",
        "\n",
        "</label><br><br>\n",
        "</form>\n",
        "</body>\n",
        "</html>\n",
        "\n",
        "\"\"\"))\n",
        "display(HTML(\"\"\"\n",
        "<h3>I want to build a model to predict whether Team A will win its basketball game against Team B. I will train my model on features computed on historical basketball games. One of my features is how many games this season Team A has won. How should I compute this feature?</h3>\n",
        "\n",
        "<form> \n",
        "  <input type=\"radio\" checked>\n",
        "  <label> Compute num_games_won / num_games_played over the whole season\n",
        "</label><br>\n",
        "  <input type=\"radio\">\n",
        "  <label> Compute num_games_won / num_games_played until the N-1 th game in order to train with the label for the N th game\n",
        "</label><br>\n",
        " \n",
        "  <input type=\"radio\">\n",
        "  <label>Compute num_games_won / num_games_played until the N th game in order to train with the label for the N th game\n",
        "</label><br><br>\n",
        "</form>\n",
        "</body>\n",
        "</html>\n",
        "\"\"\"))\n",
        "\n",
        "display(HTML(\"\"\"\n",
        "<h3>I want to build a model to predict whether Team A will win its basketball game against Team B. Which of these attributes (computed on historical basketball games) are good features? Assume that these features are all computed appropriately without taking into account non-causal data.</h3>\n",
        "\n",
        "<form>\n",
        "  <input type=\"checkbox\">\n",
        "  <label> How often Team A wins games\n",
        "</label><br>\n",
        "  <input type=\"checkbox\">\n",
        "  <label> How often Team A wins games where its opponent is ranked in the top 10\n",
        "</label><br>\n",
        " \n",
        "  <input type=\"checkbox\"\">\n",
        "  <label>How many of the last 7 games that Team A played that it has won</label><br>\n",
        "\n",
        "     <input type=\"checkbox\" checked>\n",
        "  <label> The fraction of games that Team A won when it played against Team B when both teams had this exact set of players\n",
        "</label><br><br>\n",
        "</form>\n",
        "</body>\n",
        "</html>\n",
        "\"\"\"))\n",
        "\n",
        "\n",
        "\n",
        "\n",
        "\n",
        "\n",
        "\n"
      ],
      "execution_count": 24,
      "outputs": [
        {
          "output_type": "display_data",
          "data": {
            "text/html": [
              "\n",
              "<html>\n",
              "<body>\n",
              "\n",
              "<h3>What are the characteristics of a good feature?</h3>\n",
              "\n",
              "<form>\n",
              "  <input type=\"checkbox\" checked>\n",
              "  <label> Related to the objective\n",
              "</label><br>\n",
              "  <input type=\"checkbox\" checked>\n",
              "  <label> Be numeric with meaningful magnitude\n",
              "</label><br>\n",
              "  <input type=\"checkbox\" checked>\n",
              "  <label> Have enough examples in the data\n",
              "</label><br><input type=\"checkbox\" checked>\n",
              "  <label> Knowable at prediction time\n",
              "</label><br>\n",
              "  <input type=\"checkbox\">  \n",
              "  <label> Be in free-text format\n",
              "\n",
              "</label><br><br>\n",
              "</form>\n",
              "</body>\n",
              "</html>\n",
              "\n"
            ],
            "text/plain": [
              "<IPython.core.display.HTML object>"
            ]
          },
          "metadata": {
            "tags": []
          }
        },
        {
          "output_type": "display_data",
          "data": {
            "text/html": [
              "\n",
              "<h3>I want to build a model to predict whether Team A will win its basketball game against Team B. I will train my model on features computed on historical basketball games. One of my features is how many games this season Team A has won. How should I compute this feature?</h3>\n",
              "\n",
              "<form> \n",
              "  <input type=\"radio\" checked>\n",
              "  <label> Compute num_games_won / num_games_played over the whole season\n",
              "</label><br>\n",
              "  <input type=\"radio\">\n",
              "  <label> Compute num_games_won / num_games_played until the N-1 th game in order to train with the label for the N th game\n",
              "</label><br>\n",
              " \n",
              "  <input type=\"radio\">\n",
              "  <label>Compute num_games_won / num_games_played until the N th game in order to train with the label for the N th game\n",
              "</label><br><br>\n",
              "</form>\n",
              "</body>\n",
              "</html>\n"
            ],
            "text/plain": [
              "<IPython.core.display.HTML object>"
            ]
          },
          "metadata": {
            "tags": []
          }
        },
        {
          "output_type": "display_data",
          "data": {
            "text/html": [
              "\n",
              "<h3>I want to build a model to predict whether Team A will win its basketball game against Team B. Which of these attributes (computed on historical basketball games) are good features? Assume that these features are all computed appropriately without taking into account non-causal data.</h3>\n",
              "\n",
              "<form>\n",
              "  <input type=\"checkbox\">\n",
              "  <label> How often Team A wins games\n",
              "</label><br>\n",
              "  <input type=\"checkbox\">\n",
              "  <label> How often Team A wins games where its opponent is ranked in the top 10\n",
              "</label><br>\n",
              " \n",
              "  <input type=\"checkbox\"\">\n",
              "  <label>How many of the last 7 games that Team A played that it has won</label><br>\n",
              "\n",
              "     <input type=\"checkbox\" checked>\n",
              "  <label> The fraction of games that Team A won when it played against Team B when both teams had this exact set of players\n",
              "</label><br><br>\n",
              "</form>\n",
              "</body>\n",
              "</html>\n"
            ],
            "text/plain": [
              "<IPython.core.display.HTML object>"
            ]
          },
          "metadata": {
            "tags": []
          }
        }
      ]
    }
  ]
}