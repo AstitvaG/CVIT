{
  "nbformat": 4,
  "nbformat_minor": 0,
  "metadata": {
    "colab": {
      "name": "Unsupervised Learning.ipynb",
      "provenance": []
    },
    "kernelspec": {
      "name": "python3",
      "display_name": "Python 3"
    }
  },
  "cells": [
    {
      "cell_type": "markdown",
      "metadata": {
        "id": "RDEITdA-RvpG",
        "colab_type": "text"
      },
      "source": [
        "# Clustering"
      ]
    },
    {
      "cell_type": "code",
      "metadata": {
        "id": "wdZkX_qNPJpY",
        "colab_type": "code",
        "colab": {}
      },
      "source": [
        "import numpy as np\n",
        "import cv2\n",
        "from google.colab.patches import cv2_imshow\n",
        "import matplotlib.pyplot as plt\n",
        "import matplotlib.image as mpimg\n",
        "import plotly\n",
        "from skimage import io\n",
        "from skimage import morphology as morp\n",
        "import plotly.express as px\n",
        "import plotly.graph_objects as go\n",
        "\n",
        "plt.style.use('ggplot')"
      ],
      "execution_count": 0,
      "outputs": []
    },
    {
      "cell_type": "code",
      "metadata": {
        "id": "-0HrasISUsb6",
        "colab_type": "code",
        "colab": {}
      },
      "source": [
        "def pltClusters(points, clusterLabels, offset=0.01, show_annotation=True):\n",
        "  clusterLabels = np.array(clusterLabels)\n",
        "  uniqueClusters = np.unique(clusterLabels)\n",
        "\n",
        "  if len(points.shape) == 1 or points.shape[1] == 1:\n",
        "    points = np.hstack((points.ravel()[:, None], np.zeros(points, )))"
      ],
      "execution_count": 0,
      "outputs": []
    },
    {
      "cell_type": "code",
      "metadata": {
        "id": "M30W-ldzU0q_",
        "colab_type": "code",
        "colab": {}
      },
      "source": [
        "np.random.seed(2)\n",
        "points = np.vstack((np.random.normal(0,0.5,size=(4,2)),np.random.normal(3,0.5,size=(4,2))))\n",
        "points = np.vstack((points, np.array([[1.5,1.5]])))\n",
        "points = np.vstack((points, np.array([[1.25,1.25]])))"
      ],
      "execution_count": 0,
      "outputs": []
    }
  ]
}