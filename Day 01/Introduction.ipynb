{
  "nbformat": 4,
  "nbformat_minor": 0,
  "metadata": {
    "colab": {
      "name": "Introduction.ipynb",
      "provenance": [],
      "collapsed_sections": []
    },
    "kernelspec": {
      "name": "python3",
      "display_name": "Python 3"
    }
  },
  "cells": [
    {
      "cell_type": "markdown",
      "metadata": {
        "id": "hvYonk9IS6At",
        "colab_type": "text"
      },
      "source": [
        "# Resources\n",
        "\n",
        "### Contents \n",
        "\n",
        "0. Github & Google Colab  \n",
        "\n",
        "1. Introduction \n",
        "    - Basics of Juypter Notebook \n",
        "    - Tutorial on Numpy \n",
        "2. Plotting\n",
        "    - Tutorial on matplotlib\n",
        "    - Tutorial on plotly \n",
        "3. Geometry \n",
        "    - Lines \n",
        "    - Functions\n",
        "        - Rect, Sigmoid, Tanh, Gaussian, etc.\n",
        "        - Ellipse, Circle, Rectangle, Square \n",
        "    - Plotting Contours\n",
        "    - Plotting in 3D\n",
        "4. Datasets\n",
        "    - Data and its representations (scalar, vector, matrix, tensor)\n",
        "    - Pandas  \n",
        "        \n",
        "<!-- 5. ML 101 : Tasks and Data Taxonomy\n",
        "    - Unknowns as weights / parameters\n",
        "    - Searching for solutions with a linear model -->\n",
        "\n",
        "\n",
        "### 0. Github & Google Colab \n",
        "Basics of github: https://rogerdudler.github.io/git-guide/\n",
        "\n",
        "How does branching work: http://onlywei.github.io/explain-git-with-d3/#pull\n",
        "\n",
        "### Instructions \n",
        "1. Some of you will already be famaliar with the topics. So these sessions will be as interactive as possible. We will be giving you tasks to perform and the TA's will monitor you. Hence also join the following meeting link: https://meet.google.com/unh-ymai-ddi    \n",
        "\n",
        "2. Everyone has to create a github repository. Share the details of the repository here: https://forms.gle/LqTiao98bWj1Qfjb7  \n",
        "\n",
        "3. For each day create a new folder. For today's tutorial you will be mainly work on google collab. \n",
        "Go to https://colab.research.google.com/ \n",
        "\n",
        "4. Once completed all the tasks are done regarding a particular topic. Download the notebook ( Go to File -> Download .ipynb ) and push it into the repository.  \n",
        "---"
      ]
    },
    {
      "cell_type": "markdown",
      "metadata": {
        "id": "ZOw4HD9aBspi",
        "colab_type": "text"
      },
      "source": [
        "\n",
        "\n",
        "### **Task 1**"
      ]
    },
    {
      "cell_type": "code",
      "metadata": {
        "id": "8Xbfhm1_PmQu",
        "colab_type": "code",
        "outputId": "3a8ca485-49cd-44f6-c98b-0f8aa101ca7b",
        "colab": {
          "base_uri": "https://localhost:8080/",
          "height": 69
        }
      },
      "source": [
        "listOne = [0, 1, 2, 3, 4, 5, 6, 7, 8, 9]\n",
        "\n",
        "# Task 1.1: Reverse a list\n",
        "print(listOne[::-1])\n",
        "\n",
        "# Task 1.2: Print the last five elements of a list\n",
        "print(listOne[-5:])\n",
        "\n",
        "# Task 1.2: Delete the third element of the list\n",
        "del listOne[2]\n",
        "print(listOne)"
      ],
      "execution_count": 0,
      "outputs": [
        {
          "output_type": "stream",
          "text": [
            "[9, 8, 7, 6, 5, 4, 3, 2, 1, 0]\n",
            "[5, 6, 7, 8, 9]\n",
            "[0, 1, 3, 4, 5, 6, 7, 8, 9]\n"
          ],
          "name": "stdout"
        }
      ]
    },
    {
      "cell_type": "markdown",
      "metadata": {
        "id": "ZSUEH6OeYi9f",
        "colab_type": "text"
      },
      "source": [
        "\n",
        "### **Task 2**\n",
        "\n"
      ]
    },
    {
      "cell_type": "code",
      "metadata": {
        "id": "IC31KBIWVVRG",
        "colab_type": "code",
        "outputId": "543f8343-202b-49d2-d3ce-46d932751910",
        "colab": {
          "base_uri": "https://localhost:8080/",
          "height": 208
        }
      },
      "source": [
        "x = dict([(pow(10,r),r) for r in range(10)])\n",
        "\n",
        "# Task 2.1: List all the keys inside the dict \n",
        "print(list(x.keys()))\n",
        "\n",
        "# Task 2.2: Remove key 100 from the dict \n",
        "x.pop(100)\n",
        "print(list(x.keys()))\n",
        "\n",
        "# Task 2.3: Convert the above dict into a list of key, value tuple. Then sort the list based on mod of the key value with number 101\n",
        "sorted(list(x.items()), key = lambda element: (element[0]%101))"
      ],
      "execution_count": 1,
      "outputs": [
        {
          "output_type": "stream",
          "text": [
            "[1, 10, 100, 1000, 10000, 100000, 1000000, 10000000, 100000000, 1000000000]\n",
            "[1, 10, 1000, 10000, 100000, 1000000, 10000000, 100000000, 1000000000]\n"
          ],
          "name": "stdout"
        },
        {
          "output_type": "execute_result",
          "data": {
            "text/plain": [
              "[(1, 0),\n",
              " (10000, 4),\n",
              " (100000000, 8),\n",
              " (10, 1),\n",
              " (100000, 5),\n",
              " (1000000000, 9),\n",
              " (1000, 3),\n",
              " (10000000, 7),\n",
              " (1000000, 6)]"
            ]
          },
          "metadata": {
            "tags": []
          },
          "execution_count": 1
        }
      ]
    },
    {
      "cell_type": "markdown",
      "metadata": {
        "id": "zyHRXvazhqvy",
        "colab_type": "text"
      },
      "source": [
        "### **Task 3**\n",
        "\n",
        "Read single valued decomposition for machine learning here: (https://machinelearningmastery.com/singular-value-decomposition-for-machine-learning/)"
      ]
    },
    {
      "cell_type": "code",
      "metadata": {
        "id": "ZYq48bDDhu6N",
        "colab_type": "code",
        "colab": {}
      },
      "source": [
        "import numpy as np"
      ],
      "execution_count": 0,
      "outputs": []
    },
    {
      "cell_type": "code",
      "metadata": {
        "id": "vGaQkvuihy6y",
        "colab_type": "code",
        "outputId": "866f8672-4ab8-4ca4-d885-d5feef763f8b",
        "colab": {
          "base_uri": "https://localhost:8080/",
          "height": 86
        }
      },
      "source": [
        "# Task 3.1: Calculate the inverse of a square matrix using np.svd\n",
        "n = 3\n",
        "A = np.random.randn(n,n)\n",
        "U,s,V = np.linalg.svd(A)\n",
        "# U and V are orthogonal\n",
        "Ainv = np.transpose(V) @ np.diag(1/s) @ np.transpose(U)\n",
        "print(Ainv)\n",
        "\n",
        "# Task 3.2: Verify results\n",
        "np.allclose(A @ Ainv, np.eye(n))"
      ],
      "execution_count": 0,
      "outputs": [
        {
          "output_type": "stream",
          "text": [
            "[[ 251.08951894   -9.01800046   84.01885527]\n",
            " [-148.31020213    6.3013018   -49.52497929]\n",
            " [-207.06414705    8.05738914  -68.52832636]]\n"
          ],
          "name": "stdout"
        },
        {
          "output_type": "execute_result",
          "data": {
            "text/plain": [
              "True"
            ]
          },
          "metadata": {
            "tags": []
          },
          "execution_count": 48
        }
      ]
    },
    {
      "cell_type": "markdown",
      "metadata": {
        "id": "sQS9j4wdnKfh",
        "colab_type": "text"
      },
      "source": [
        "### **Task 4**\n"
      ]
    },
    {
      "cell_type": "code",
      "metadata": {
        "id": "dlUMoj1kn3bL",
        "colab_type": "code",
        "colab": {}
      },
      "source": [
        "import matplotlib.pyplot as plt\n",
        "import numpy as np"
      ],
      "execution_count": 0,
      "outputs": []
    },
    {
      "cell_type": "code",
      "metadata": {
        "id": "Ez3WPQlZoG3b",
        "colab_type": "code",
        "outputId": "d7f1ad3f-f5ef-49de-8a3c-514a38e0cb12",
        "colab": {
          "base_uri": "https://localhost:8080/",
          "height": 298
        }
      },
      "source": [
        "# Task 4: Create a sin plot using both plt.plot and plt.scatter with labelling\n",
        "\n",
        "time = np.arange(0, 10, 0.1)\n",
        "amplitudeSin = np.sin(time)\n",
        "amplitudeCos = np.cos(time)\n",
        "plt.plot(time, amplitudeSin, label = 'sin plot', c = 'steelblue')\n",
        "plt.scatter(time, amplitudeSin, label = 'sin scatter', c = 'orange')\n",
        "plt.title('Sine Curves')\n",
        "plt.legend()"
      ],
      "execution_count": 0,
      "outputs": [
        {
          "output_type": "execute_result",
          "data": {
            "text/plain": [
              "<matplotlib.legend.Legend at 0x7f052b3ade48>"
            ]
          },
          "metadata": {
            "tags": []
          },
          "execution_count": 11
        },
        {
          "output_type": "display_data",
          "data": {
            "image/png": "[encoded data removed]",
            "text/plain": [
              "<Figure size 432x288 with 1 Axes>"
            ]
          },
          "metadata": {
            "tags": [],
            "needs_background": "light"
          }
        }
      ]
    },
    {
      "cell_type": "markdown",
      "metadata": {
        "id": "rxrc9yFLy-0b",
        "colab_type": "text"
      },
      "source": [
        "Read about plotly for interactive plots and animations."
      ]
    }
  ]
}