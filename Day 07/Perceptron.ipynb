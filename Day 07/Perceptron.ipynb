{
  "nbformat": 4,
  "nbformat_minor": 0,
  "metadata": {
    "colab": {
      "name": "Perceptron",
      "provenance": [],
      "collapsed_sections": []
    },
    "kernelspec": {
      "display_name": "Python 3",
      "language": "python",
      "name": "python3"
    }
  },
  "cells": [
    {
      "cell_type": "markdown",
      "metadata": {
        "id": "L2FBw-lZOS9Y",
        "colab_type": "text"
      },
      "source": [
        "# Perceptron\n",
        "\n",
        "A node for decision making is called a Perceptron.\n",
        "\n",
        "The factors affecting the decision can be weighted.\n",
        "\n",
        "The decision can be made using a single threshold value for a binary valued output.\n",
        "\n",
        "### Activation Function\n",
        "\n",
        "### Nueral Networks \n",
        "\n",
        "Here, each node is a perceptron.\n",
        "\n",
        "### Logic Gates\n",
        "\n",
        "*Nand Gate*\n",
        "\n",
        "Two inputs $x_1$ and $x_2$ with weights -2 and -2, the constant added is 3.\n",
        "\n",
        "| $x_1$ | $x_2$ | $Output$ |\n",
        "|------|------|------|\n",
        "|   1  |   0  |  1   |\n",
        "|   0  |   1  |  1   | \n",
        "|   0  |   0  |  -1  | \n",
        "|   1  |   1  |  3   | \n",
        "\n",
        "*And Gate*\n",
        "\n",
        "Two inputs $x_1$ and $x_2$ with weights 2 and 2, the constant added is -3.\n",
        "\n",
        "| $x_1$ | $x_2$ | $Output$ |\n",
        "|------|------|------|\n",
        "|   1  |   0  |  -1  |\n",
        "|   0  |   1  |  -1  | \n",
        "|   0  |   0  |  -3  | \n",
        "|   1  |   1  |   1  | \n",
        "\n",
        "### Training A Perceptron\n",
        "\n",
        "$$\n",
        "w_i = w_i + \\Delta w_i\n",
        "$$\n",
        "\n",
        "$$\n",
        "\\Delta w_i = \\eta(t - o)x_i\n",
        "$$\n",
        "\n",
        "- $t$ is the target value\n",
        "- $o$ is the perceptron output\n",
        "- $\\eta$ is the learning rate (Commonly $\\alpha$)\n",
        "\n",
        "**Algorithm**\n",
        "\n",
        "Choose weight randomly and then calculate the output obtained.\n",
        "\n",
        "Used the outputs to take difference and that difference is called error.\n",
        "\n",
        "Based on the error the weights are updated.\n",
        "\n",
        "The threshold is fixed across the epochs.\n",
        "\n",
        "### Epoch\n",
        "\n",
        "When you training a model and have gone through every data point, that is the end of one epoch.\n",
        "\n",
        "One epoch is one iteration. But here one iteration is one forward pass plus one backward pass of updataing weights."
      ]
    },
    {
      "cell_type": "markdown",
      "metadata": {
        "id": "2NiLPMhPgYFa",
        "colab_type": "text"
      },
      "source": [
        "# Dataset"
      ]
    },
    {
      "cell_type": "markdown",
      "metadata": {
        "id": "e9CxCComgihL",
        "colab_type": "text"
      },
      "source": [
        "### Description"
      ]
    },
    {
      "cell_type": "markdown",
      "metadata": {
        "colab_type": "text",
        "id": "S0k4a9Qbe6p1"
      },
      "source": [
        "In this experiment, we will use the CIFAR-10 dataset. It consists of 60,000 32x32 colour images in 10 classes, with 6000 images per class. There are 50,000 training images and 10,000 test images.\n",
        "\n",
        "\n",
        "The dataset is divided into five training batches and one test batch, each with 10000 images. The test batch contains exactly 1000 randomly-selected images from each class. The training batches contain the remaining images in random order, but some training batches may contain more images from one class than another. Between them, the training batches contain exactly 5000 images from each class. \n",
        "\n",
        "**The code returns the contents of each data file as a dictionary**."
      ]
    },
    {
      "cell_type": "markdown",
      "metadata": {
        "colab_type": "text",
        "id": "DL8erXHHe6p2"
      },
      "source": [
        "There are 8 pickled (To know more about pickle refer **Python_Pickle_Introduction** notebook )files in the CIFAR-10 directory.\n",
        "\n",
        "    1. batches.meta\n",
        "\n",
        "    2. data_batch_1\n",
        "\n",
        "    3. data_batch_2\t\n",
        "\n",
        "    4. data_batch_3\n",
        "\n",
        "    5. data_batch_4\t\n",
        "\n",
        "    6. data_batch_5\n",
        "\n",
        "    7. readme.html\n",
        "\n",
        "    8. test_batch\n",
        "\n",
        "Getting into details of this dataset:\n",
        "\n",
        "\n",
        "**data** : A 50,000x3072 numpy array of unsigned integers. Each row of the array stores a 32x32 colour image. The first 1024 entries contain the red channel values, the next 1024 the green, and the final 1024 the blue. The image is stored in row-major order, so that the first 32 entries of the array are the red channel values of the first row of the image.\n",
        "\n",
        "**labels** : A list of 50,000 numbers in the range 0-9. The number at index i indicates the label of the ith image in the array data.\n",
        "\n"
      ]
    },
    {
      "cell_type": "markdown",
      "metadata": {
        "colab_type": "text",
        "id": "ecPwLon_e6p4"
      },
      "source": [
        "### DataSource\n",
        "\n",
        "https://www.cs.toronto.edu/~kriz/cifar.html"
      ]
    },
    {
      "cell_type": "markdown",
      "metadata": {
        "colab_type": "text",
        "id": "M9Mdrhr8e6p4"
      },
      "source": [
        "### Perceptron\n",
        "\n",
        "\n",
        "A perceptron has one or more inputs, a bias, an activation function, and a single output. The perceptron receives inputs, multiplies them by some weight, and then passes them into an activation function to produce an output. \n"
      ]
    },
    {
      "cell_type": "markdown",
      "metadata": {
        "colab_type": "text",
        "id": "jYSSCRSwfOBb"
      },
      "source": [
        "### Setup Steps"
      ]
    },
    {
      "cell_type": "code",
      "metadata": {
        "id": "8jG97PJImsd8",
        "colab_type": "code",
        "cellView": "both",
        "colab": {}
      },
      "source": [
        "#@title Run this cell to complete the setup for this Notebook\n",
        "from IPython import get_ipython\n",
        "\n",
        "ipython = get_ipython()\n",
        "ipython.magic(\"sx wget https://cdn.talentsprint.com/aiml/Experiment_related_data/week3/Exp3/AIML_DS_CIFAR-10_STD.zip\")\n",
        "ipython.magic(\"sx unzip AIML_DS_CIFAR-10_STD.zip\")\n"
      ],
      "execution_count": 0,
      "outputs": []
    },
    {
      "cell_type": "code",
      "metadata": {
        "colab_type": "code",
        "id": "9cmlHxf-e6p7",
        "colab": {}
      },
      "source": [
        "# Importing required packages\n",
        "import numpy as np\n",
        "import matplotlib.pyplot as plt\n",
        "import os\n",
        "import scipy.io as sio\n",
        "import itertools\n",
        "import operator\n",
        "import random\n",
        "import collections\n",
        "from scipy import stats\n",
        "from sklearn.metrics import accuracy_score"
      ],
      "execution_count": 0,
      "outputs": []
    },
    {
      "cell_type": "markdown",
      "metadata": {
        "id": "w_RfJjpFG0kp",
        "colab_type": "text"
      },
      "source": [
        "#### Function to unpickle the data"
      ]
    },
    {
      "cell_type": "code",
      "metadata": {
        "colab_type": "code",
        "id": "Q4qKDf-ee6qA",
        "colab": {}
      },
      "source": [
        "import pickle\n",
        "# Getting the data\n",
        "def unpickle(file):\n",
        "    with open(file, 'rb') as fo:\n",
        "        dict_1 = pickle.load(fo, encoding='Latin1')\n",
        "    return dict_1"
      ],
      "execution_count": 0,
      "outputs": []
    },
    {
      "cell_type": "markdown",
      "metadata": {
        "colab_type": "text",
        "id": "706Q4tnBe6qE"
      },
      "source": [
        "### Visualizing the images in CIFAR-10 Dataset\n"
      ]
    },
    {
      "cell_type": "markdown",
      "metadata": {
        "id": "-6119xCxOAbF",
        "colab_type": "text"
      },
      "source": [
        "When you pass a pickled file to the get_data function it returns features, labels, file names, list of classes of the corresponding file."
      ]
    },
    {
      "cell_type": "code",
      "metadata": {
        "id": "h1_yJnrxJEcr",
        "colab_type": "code",
        "colab": {}
      },
      "source": [
        "def get_data(file):\n",
        "    dict_1 = unpickle(file)\n",
        "    # Data\n",
        "    X = np.asarray(dict_1['data']).astype(\"uint8\")\n",
        "    # Labels\n",
        "    Y = np.asarray(dict_1['labels'])\n",
        "    # Names \n",
        "    names = np.asarray(dict_1['filenames'])\n",
        "    # List of classes\n",
        "    list_class=(unpickle(\"AIML_DS_CIFAR-10_STD/batches.meta\")['label_names'])\n",
        "    return X,Y,names,list_class"
      ],
      "execution_count": 0,
      "outputs": []
    },
    {
      "cell_type": "code",
      "metadata": {
        "colab_type": "code",
        "id": "ONBuR6rLe6qG",
        "colab": {}
      },
      "source": [
        "# Function to visualize the data\n",
        "def visualize_image(X, Y, names, image_id,size=(5,5)):\n",
        "    rgb = X[image_id,:]\n",
        "    plt.figure(figsize = size)\n",
        "    img = rgb.reshape(3, 32, 32).transpose([1, 2, 0])\n",
        "    print(img.shape)\n",
        "    plt.grid(False)\n",
        "    plt.imshow(img)\n",
        "    plt.title(names[image_id])\n",
        "    plt.show()"
      ],
      "execution_count": 0,
      "outputs": []
    },
    {
      "cell_type": "code",
      "metadata": {
        "colab_type": "code",
        "id": "omWvcXvae6qL",
        "colab": {
          "base_uri": "https://localhost:8080/",
          "height": 342
        },
        "outputId": "5fe8b6c6-f9ac-4aa1-8251-4e0ef1625fb2"
      },
      "source": [
        "# Read 10000 images from batch 3\n",
        "X, Y, names, classes = get_data(\"AIML_DS_CIFAR-10_STD/data_batch_3\")\n",
        "# Display the Nth image\n",
        "pick = 90\n",
        "print(\"Class =\",classes[Y[pick]])\n",
        "visualize_image(X, Y, names, pick,size=(0.3,0.3)) # output image would be a blured image\n",
        "visualize_image(X, Y, names, pick,size=(3,3)) "
      ],
      "execution_count": 21,
      "outputs": [
        {
          "output_type": "stream",
          "text": [
            "Class = dog\n",
            "(32, 32, 3)\n"
          ],
          "name": "stdout"
        },
        {
          "output_type": "display_data",
          "data": {
            "image/png": "[encoded data removed]",
            "text/plain": [
              "<Figure size 21.6x21.6 with 1 Axes>"
            ]
          },
          "metadata": {
            "tags": [],
            "needs_background": "light"
          }
        },
        {
          "output_type": "stream",
          "text": [
            "(32, 32, 3)\n"
          ],
          "name": "stdout"
        },
        {
          "output_type": "display_data",
          "data": {
            "image/png": "[encoded data removed]",
            "text/plain": [
              "<Figure size 216x216 with 1 Axes>"
            ]
          },
          "metadata": {
            "tags": [],
            "needs_background": "light"
          }
        }
      ]
    },
    {
      "cell_type": "markdown",
      "metadata": {
        "id": "WCjvhMpyIgyf",
        "colab_type": "text"
      },
      "source": [
        "**The images you see above are pixelated and hence they are  blur.** (Pixelation happens when you display a low resolution of an image on a larger canvas (such a large screen), where each pixel ends up being displayed as an image. You could read more about it on https://whatis.techtarget.com/definition/pixelation ).  This however does not affect the prediction of your machine learning algorithm, for the same reason."
      ]
    },
    {
      "cell_type": "code",
      "metadata": {
        "colab_type": "code",
        "id": "CAy2u-Ffe6qX",
        "colab": {}
      },
      "source": [
        "from sklearn.linear_model import Perceptron\n",
        "\n",
        "def predict(train_features,test_features,train_labels): \n",
        "    # tol is the stopping error limit 0.001\n",
        "    clf = Perceptron(tol=1e-3, random_state=0)\n",
        "    # Fitting the data into the model, training the network\n",
        "    clf.fit(train_features, train_labels)\n",
        "    # Predicting the labels for test data\n",
        "    predicted_values = clf.predict(test_features)\n",
        "    return predicted_values\n"
      ],
      "execution_count": 0,
      "outputs": []
    },
    {
      "cell_type": "markdown",
      "metadata": {
        "id": "S03AOIJW6Elf",
        "colab_type": "text"
      },
      "source": [
        "**Define a function to calculate accuracy score.**"
      ]
    },
    {
      "cell_type": "code",
      "metadata": {
        "colab_type": "code",
        "id": "eOKjt1Lpe6qm",
        "colab": {}
      },
      "source": [
        "from sklearn.metrics import accuracy_score\n",
        "def calc_accuracy(train_features,test_features,train_labels,test_labels):\n",
        "    # Calling predict function to get the predicted labels of test data\n",
        "    pred = predict(train_features,test_features,train_labels)\n",
        "    return accuracy_score(pred, test_labels)\n",
        "  "
      ],
      "execution_count": 0,
      "outputs": []
    },
    {
      "cell_type": "markdown",
      "metadata": {
        "id": "MFpkHmA76z46",
        "colab_type": "text"
      },
      "source": [
        "**Now we unpickle the data and labels from CIFAR-10 dataset and divide them into training and testing sets.**"
      ]
    },
    {
      "cell_type": "code",
      "metadata": {
        "colab_type": "code",
        "id": "AsRkIdoCe6qq",
        "colab": {}
      },
      "source": [
        "train_features = []\n",
        "train_labels = []\n",
        "# Read all training features and labels\n",
        "for j in \"12345\": \n",
        "    batch_file = 'AIML_DS_CIFAR-10_STD/data_batch_'+ j\n",
        "    x_train, y_train, names_train, classes_train = get_data(batch_file)\n",
        "    train_features.extend(x_train)\n",
        "    train_labels.extend(y_train)\n",
        "\n",
        "train_features = np.asarray(train_features)\n",
        "train_labels = np.asarray(train_labels)\n",
        "\n",
        "# Read all test features and labels\n",
        "test_features, test_labels, names_test, classes_test = get_data(\"AIML_DS_CIFAR-10_STD/test_batch\")"
      ],
      "execution_count": 0,
      "outputs": []
    },
    {
      "cell_type": "code",
      "metadata": {
        "id": "FTS853um7cOl",
        "colab_type": "code",
        "colab": {
          "base_uri": "https://localhost:8080/",
          "height": 34
        },
        "outputId": "f57b5d60-4409-40ba-8e80-1cd6dde1db7f"
      },
      "source": [
        "# The input features are of 3072, each sample length \n",
        "# Each epoch has 50000 samples \n",
        "test_labels.shape, train_labels.shape, test_features.shape, train_features.shape"
      ],
      "execution_count": 10,
      "outputs": [
        {
          "output_type": "execute_result",
          "data": {
            "text/plain": [
              "((10000,), (50000,), (10000, 3072), (50000, 3072))"
            ]
          },
          "metadata": {
            "tags": []
          },
          "execution_count": 10
        }
      ]
    },
    {
      "cell_type": "code",
      "metadata": {
        "id": "OMSkyevFwviz",
        "colab_type": "code",
        "colab": {}
      },
      "source": [
        "# Function to extract the classes binary classification\n",
        "def extract_2classes(class0, class1, X, Y):\n",
        "    # Select class #0\n",
        "    X_0 = X[Y == class0]\n",
        "    Y_0 = Y[Y == class0]\n",
        "    # Select class #1\n",
        "    X_1 = X[Y == class1]\n",
        "    Y_1 = Y[Y == class1]\n",
        "    # Join the two classes to make the set\n",
        "    X_2classes = np.vstack((X_0, X_1))\n",
        "    Y_2classes = np.append(Y_0, Y_1)\n",
        "    return X_2classes, Y_2classes"
      ],
      "execution_count": 0,
      "outputs": []
    },
    {
      "cell_type": "code",
      "metadata": {
        "id": "TGAVzdP8wx58",
        "colab_type": "code",
        "colab": {}
      },
      "source": [
        "# Select classes #5 and #7\n",
        "X_train_2classes, Y_train_2classes = extract_2classes(5, 7, train_features, train_labels)\n",
        "X_test_2classes, Y_test_2classes = extract_2classes(5, 7,test_features, test_labels)"
      ],
      "execution_count": 0,
      "outputs": []
    },
    {
      "cell_type": "code",
      "metadata": {
        "id": "r4h3fqmuEDp0",
        "colab_type": "code",
        "colab": {
          "base_uri": "https://localhost:8080/",
          "height": 34
        },
        "outputId": "31fc79f1-629e-452c-f72b-76891c1a2cd3"
      },
      "source": [
        "calc_accuracy(X_train_2classes,X_test_2classes,Y_train_2classes,Y_test_2classes)"
      ],
      "execution_count": 24,
      "outputs": [
        {
          "output_type": "execute_result",
          "data": {
            "text/plain": [
              "0.7365"
            ]
          },
          "metadata": {
            "tags": []
          },
          "execution_count": 24
        }
      ]
    },
    {
      "cell_type": "markdown",
      "metadata": {
        "id": "jQZPi5ccTD0a",
        "colab_type": "text"
      },
      "source": [
        "### Credibility\n",
        "\n",
        "Error on the testing data set is used as a measure of accuracy as they are values that the model has never seen and has not be adapted to.\n",
        "\n",
        "### Underfitting\n",
        "### Overfitting\n",
        "\n",
        "Epochs versus Error graphs can give a good measure of the situation.\n",
        "\n",
        "**Validation sets** are used to tune parameters.\n",
        "\n",
        "Degrees vs MSE where train and validation error are plotted can give a good measure of the situation.\n",
        "\n",
        "### K Cross Validation\n",
        "\n",
        "Divide the dataset into K parts and K - 1 parts are train data and 1 part is validation. This split and train process is done K times, so that each set is a validation set once.\n",
        "\n",
        "`sklearn` and other libraries have built in funtions for all kinds of data splits.\n",
        "\n",
        "### Early Stopping\n",
        "\n",
        "Done to prevent overfitting.\n",
        "\n",
        "For example, if the result has improved in the last X epochs then continue, else stop."
      ]
    },
    {
      "cell_type": "code",
      "metadata": {
        "id": "TrA77kyUelIF",
        "colab_type": "code",
        "colab": {}
      },
      "source": [
        ""
      ],
      "execution_count": 0,
      "outputs": []
    },
    {
      "cell_type": "code",
      "metadata": {
        "id": "kK5XhDjhTZ6d",
        "colab_type": "code",
        "outputId": "f68153e0-2e82-467e-e407-3c372a36a6bd",
        "colab": {
          "base_uri": "https://localhost:8080/",
          "height": 34
        }
      },
      "source": [
        "class Perceptron(object):\n",
        "    def __init__(self, input_size, lr=0.1, epochs=5, threshold=0.2):\n",
        "        # Add one for bias\n",
        "        # self.W = np.zeros(input_size+1)\n",
        "        self.W = np.array([0, 0.3, -0.1])\n",
        "        self.epochs = epochs\n",
        "        self.lr = lr\n",
        "        self.threshold = threshold\n",
        "    \n",
        "    def activation_fn(self, x):\n",
        "        #return (x >= 0).astype(np.float32)\n",
        "        return 1 if x >= self.threshold else 0\n",
        " \n",
        "    def predict(self, x):\n",
        "        # Take dot product to get values \n",
        "        z = self.W.T.dot(x)\n",
        "        # Use values to get output \n",
        "        a = self.activation_fn(z)\n",
        "        return a\n",
        " \n",
        "    def fit(self, X, d):\n",
        "        for _ in range(self.epochs):\n",
        "            for i in range(d.shape[0]):\n",
        "                # At position 0 insert 1\n",
        "                x = np.insert(X[i],0, 1)\n",
        "                # print(i, x)\n",
        "                y = self.predict(x)\n",
        "                e = d[i] - y\n",
        "                self.W = self.W + self.lr * e * x\n",
        "\n",
        "if __name__ == '__main__':\n",
        "    X = np.array([\n",
        "        [0, 0],\n",
        "        [0, 1],\n",
        "        [1, 0],\n",
        "        [1, 1]\n",
        "    ])\n",
        "    d = np.array([0, 0, 0, 1])\n",
        " \n",
        "    perceptron = Perceptron(input_size=2, threshold=0.2)\n",
        "    perceptron.fit(X, d)\n",
        "    print(perceptron.W)"
      ],
      "execution_count": 56,
      "outputs": [
        {
          "output_type": "stream",
          "text": [
            "[-0.1  0.3  0.1]\n"
          ],
          "name": "stdout"
        }
      ]
    }
  ]
}