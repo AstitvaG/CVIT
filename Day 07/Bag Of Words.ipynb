{
  "nbformat": 4,
  "nbformat_minor": 0,
  "metadata": {
    "colab": {
      "name": "Bag Of Words.ipynb",
      "provenance": [],
      "collapsed_sections": []
    },
    "kernelspec": {
      "name": "python3",
      "display_name": "Python 3"
    }
  },
  "cells": [
    {
      "cell_type": "markdown",
      "metadata": {
        "id": "UnNjcTH7wbUP",
        "colab_type": "text"
      },
      "source": [
        "# Word To Vector In Bag Of Words\n",
        "\n",
        "The objective of this experiment is to learn words with similar or different meanings are equally apart in BoW and where semantics or meaning of the word is preserved in W2V\n",
        "\n"
      ]
    },
    {
      "cell_type": "markdown",
      "metadata": {
        "id": "hFhMGpiGwbUR",
        "colab_type": "text"
      },
      "source": [
        "In this experiment we will be using a huge dataset named as 20 news classification dataset. This data set consists of 20000 messages taken from 20 newsgroups.\n",
        "\n",
        "\n",
        "\t "
      ]
    },
    {
      "cell_type": "markdown",
      "metadata": {
        "id": "L0drLlmqwbUT",
        "colab_type": "text"
      },
      "source": [
        "### Datasource\n",
        "http://archive.ics.uci.edu/ml/datasets/Twenty+Newsgroups"
      ]
    },
    {
      "cell_type": "markdown",
      "metadata": {
        "id": "AunUB3i6wbUT",
        "colab_type": "text"
      },
      "source": [
        "To get a sense of our data, let us first start by counting the frequencies of the target classes in our news articles in the training set."
      ]
    },
    {
      "cell_type": "markdown",
      "metadata": {
        "id": "y53rHt9NwbUU",
        "colab_type": "text"
      },
      "source": [
        "#### Keywords\n",
        "\n",
        "* Numpy\n",
        "* Collections\n",
        "* Gensim\n",
        "* Bag-of-Words (Word Frequency, Pre-Processing)\n",
        "* Bag-of-Words representation"
      ]
    },
    {
      "cell_type": "markdown",
      "metadata": {
        "id": "rN0OyDALwbUU",
        "colab_type": "text"
      },
      "source": [
        "### Setup Steps"
      ]
    },
    {
      "cell_type": "code",
      "metadata": {
        "id": "Iak9BpAQEYLf",
        "colab_type": "code",
        "cellView": "both",
        "colab": {}
      },
      "source": [
        "#@title Run this cell to complete the setup for this Notebook\n",
        "\n",
        "from IPython import get_ipython\n",
        "ipython = get_ipython()\n",
        "\n",
        "ipython.magic(\"sx wget https://www.dropbox.com/s/ir5kph0ocvibaqm/Setup_W1_D1_Exp1.sh?dl=1\")\n",
        "ipython.magic(\"sx mv Setup_W1_D1_Exp1.sh?dl=1 Setup_W1_D1_Exp1.sh\")\n",
        "ipython.magic(\"sx bash Setup_W1_D1_Exp1.sh -u standard -p pass123\")\n",
        "ipython.magic(\"sx pip3 install gensim\")\n"
      ],
      "execution_count": 0,
      "outputs": []
    },
    {
      "cell_type": "code",
      "metadata": {
        "id": "H9sC9--9wbUq",
        "colab_type": "code",
        "colab": {}
      },
      "source": [
        "# Importing required Packages\n",
        "import pickle\n",
        "import re\n",
        "import operator\n",
        "from collections import defaultdict\n",
        "import matplotlib.pyplot as plt\n",
        "import numpy as np\n",
        "import math\n",
        "import collections\n",
        "import gensim\n",
        "from nltk import ngrams\n",
        "import warnings\n",
        "warnings.filterwarnings(\"ignore\")"
      ],
      "execution_count": 0,
      "outputs": []
    },
    {
      "cell_type": "code",
      "metadata": {
        "id": "JEhKu_rjwbUt",
        "colab_type": "code",
        "outputId": "c738dfd1-6e43-4ab3-e603-da0f5ed35ad3",
        "colab": {
          "base_uri": "https://localhost:8080/",
          "height": 54
        }
      },
      "source": [
        "# Loading the dataset\n",
        "dataset = pickle.load(open('week1_exp1/AIML_DS_NEWSGROUPS_PICKELFILE.pkl','rb'))\n",
        "print(dataset.keys())"
      ],
      "execution_count": 0,
      "outputs": [
        {
          "output_type": "stream",
          "text": [
            "dict_keys(['talk.politics.mideast', 'rec.autos', 'comp.sys.mac.hardware', 'alt.atheism', 'rec.sport.baseball', 'comp.os.ms-windows.misc', 'rec.sport.hockey', 'sci.crypt', 'sci.med', 'talk.politics.misc', 'rec.motorcycles', 'comp.windows.x', 'comp.graphics', 'comp.sys.ibm.pc.hardware', 'sci.electronics', 'talk.politics.guns', 'sci.space', 'soc.religion.christian', 'misc.forsale', 'talk.religion.misc'])\n"
          ],
          "name": "stdout"
        }
      ]
    },
    {
      "cell_type": "code",
      "metadata": {
        "id": "ZF9S3GYSwbUx",
        "colab_type": "code",
        "outputId": "29a05e0a-8c0d-4bf9-a22b-3e82775aa2dd",
        "colab": {
          "base_uri": "https://localhost:8080/",
          "height": 399
        }
      },
      "source": [
        "# Print frequencies of dataset\n",
        "print(\"Class : count\")\n",
        "print(\"--------------\")\n",
        "number_of_documents = 0\n",
        "for key in dataset:\n",
        "    print(key, ':', len(dataset[key]))"
      ],
      "execution_count": 0,
      "outputs": [
        {
          "output_type": "stream",
          "text": [
            "Class : count\n",
            "--------------\n",
            "talk.politics.mideast : 940\n",
            "rec.autos : 990\n",
            "comp.sys.mac.hardware : 961\n",
            "alt.atheism : 799\n",
            "rec.sport.baseball : 994\n",
            "comp.os.ms-windows.misc : 985\n",
            "rec.sport.hockey : 999\n",
            "sci.crypt : 991\n",
            "sci.med : 990\n",
            "talk.politics.misc : 775\n",
            "rec.motorcycles : 994\n",
            "comp.windows.x : 980\n",
            "comp.graphics : 973\n",
            "comp.sys.ibm.pc.hardware : 982\n",
            "sci.electronics : 981\n",
            "talk.politics.guns : 910\n",
            "sci.space : 987\n",
            "soc.religion.christian : 997\n",
            "misc.forsale : 972\n",
            "talk.religion.misc : 628\n"
          ],
          "name": "stdout"
        }
      ]
    },
    {
      "cell_type": "markdown",
      "metadata": {
        "id": "gJDnkxkmwbU1",
        "colab_type": "text"
      },
      "source": [
        "Next, let us split our dataset which consists of 1000 samples per class, into training and test sets. We use 950 samples from each class in the training set, and the remaining 50 in the test set. \n",
        "\n",
        "As a mental exercise you should try reasoning about why is it important to ensure a nearly equal distribution of classes in your training and test sets. "
      ]
    },
    {
      "cell_type": "code",
      "metadata": {
        "id": "u6GK60NEwbU2",
        "colab_type": "code",
        "colab": {}
      },
      "source": [
        "train_set = {}\n",
        "test_set = {}\n",
        "\n",
        "# Clean dataset for text encoding issues : Very useful when dealing with non-unicode characters\n",
        "for key in dataset:\n",
        "    dataset[key] = [[i.decode('utf-8', errors='replace').lower() for i in f] for f in dataset[key]]\n",
        "    \n",
        "# Break dataset into 95-5 split for training and testing\n",
        "n_train = 0\n",
        "n_test = 0\n",
        "for k in dataset:\n",
        "    split = int(0.95*len(dataset[k]))\n",
        "    train_set[k] = dataset[k][0:split]\n",
        "    test_set[k] = dataset[k][split:-1]\n",
        "    n_train += len(train_set[k])\n",
        "    n_test += len(test_set[k])"
      ],
      "execution_count": 0,
      "outputs": []
    },
    {
      "cell_type": "markdown",
      "metadata": {
        "id": "afd4qfAEwbU6",
        "colab_type": "text"
      },
      "source": [
        "## 1. Bag-of-Words\n",
        "\n",
        "Let us begin our journey into text classification with one of the simplest but most commonly used feature representations for news documents - Bag-of-Words.\n",
        "\n",
        "As you might have realized, machine learning algorithms need good feature representations of different inputs.  Concretely, we would like to represent each news article $D$ in terms of a feature vector $V$, which can be used for classification. Feature vector $V$ is made up of the number of occurences of each word in the vocabulary.\n",
        "\n",
        "Let us begin by counting the number of occurences of every word in the news documents in the training set."
      ]
    },
    {
      "cell_type": "markdown",
      "metadata": {
        "id": "OACynazXwbU7",
        "colab_type": "text"
      },
      "source": [
        "### 1.1 Word frequency"
      ]
    },
    {
      "cell_type": "markdown",
      "metadata": {
        "id": "zWgzZVqYwbU8",
        "colab_type": "text"
      },
      "source": [
        "### Let us try understanding the kind of words that appear frequently, and those that occur rarely. We now count the frequencies of words:"
      ]
    },
    {
      "cell_type": "code",
      "metadata": {
        "id": "9kyqVjvBWLdK",
        "colab_type": "code",
        "colab": {}
      },
      "source": [
        "def frequency_words(train_set):\n",
        "  frequency = defaultdict(int)\n",
        "\n",
        "  for key in train_set:\n",
        "      for f in train_set[key]:\n",
        "\n",
        "          # Find all words which consist only of capital and lowercase characters and are between length of 2-9.\n",
        "          # We ignore all special characters such as !.$ and words containing numbers\n",
        "          words = re.findall(r'(\\b[A-Za-z][a-z]{2,9}\\b)', ' '.join(f))\n",
        "\n",
        "          for word in words:\n",
        "              frequency[word] += 1\n",
        "  return frequency"
      ],
      "execution_count": 0,
      "outputs": []
    },
    {
      "cell_type": "code",
      "metadata": {
        "id": "AdILkwjHwbU9",
        "colab_type": "code",
        "outputId": "7d6dbaf1-8e98-4c09-a8b8-36d3bc2d6f0a",
        "colab": {
          "base_uri": "https://localhost:8080/",
          "height": 399
        }
      },
      "source": [
        "frequency_of_words = frequency_words(train_set)\n",
        "\n",
        "sorted_words = sorted(frequency_of_words.items(), key=operator.itemgetter(1), reverse=True)\n",
        "print(\"Top-10 most frequent words:\")\n",
        "for word in sorted_words[:10]:\n",
        "    print(word)\n",
        "\n",
        "print('----------------------------')\n",
        "print(\"10 least frequent words:\")\n",
        "for word in sorted_words[-10:-1]:\n",
        "    print(word)"
      ],
      "execution_count": 0,
      "outputs": [
        {
          "output_type": "stream",
          "text": [
            "Top-10 most frequent words:\n",
            "('the', 226860)\n",
            "('and', 90621)\n",
            "('that', 62088)\n",
            "('for', 43546)\n",
            "('you', 42430)\n",
            "('from', 35358)\n",
            "('this', 31001)\n",
            "('not', 28645)\n",
            "('have', 28519)\n",
            "('are', 28355)\n",
            "----------------------------\n",
            "10 least frequent words:\n",
            "('apokteiuo', 1)\n",
            "('odessy', 1)\n",
            "('reedited', 1)\n",
            "('stumps', 1)\n",
            "('morsel', 1)\n",
            "('roston', 1)\n",
            "('nutball', 1)\n",
            "('tillage', 1)\n",
            "('honorably', 1)\n"
          ],
          "name": "stdout"
        }
      ]
    },
    {
      "cell_type": "markdown",
      "metadata": {
        "id": "YxZqnO8GwbVB",
        "colab_type": "text"
      },
      "source": [
        "Next, we attempt to plot a histogram of the counts of various words in descending order. \n",
        "\n",
        "Could you comment about the relationship between the frequency of the most frequent word to the second frequent word? \n",
        "And what about the third most frequent word?\n",
        "\n",
        "(Hint: Check the relative frequencies of the first, second and third most frequent words)\n",
        "\n",
        "(After answering, you can visit https://en.wikipedia.org/wiki/Zipf%27s_law for further Reading)\n",
        "\n",
        "**Zipf's Law**\n",
        "\n",
        "The frequency of any word is inversely proportional to its rank in the frequency table. Thus the most frequent word will occur approximately twice as often as the second most frequent word, three times as often as the third most frequent word"
      ]
    },
    {
      "cell_type": "code",
      "metadata": {
        "id": "kyWfgN4qwbVC",
        "colab_type": "code",
        "outputId": "62976dda-b3a2-420c-c8c2-1bfdb33ae798",
        "colab": {
          "base_uri": "https://localhost:8080/",
          "height": 382
        }
      },
      "source": [
        "%matplotlib inline  \n",
        "\n",
        "fig = plt.figure()\n",
        "fig.set_size_inches(20,10)\n",
        "\n",
        "plt.bar(range(len(sorted_words[:100])), [v for k, v in sorted_words[:100]] , align='center')\n",
        "plt.xticks(range(len(sorted_words[:100])), [k for k, v in sorted_words[:100]])\n",
        "locs, labels = plt.xticks()\n",
        "plt.setp(labels, rotation=90)\n",
        "plt.show()"
      ],
      "execution_count": 0,
      "outputs": [
        {
          "output_type": "display_data",
          "data": {
            "image/png": "[encoded data removed]",
            "text/plain": [
              "<Figure size 1440x720 with 1 Axes>"
            ]
          },
          "metadata": {
            "tags": [],
            "needs_background": "light"
          }
        }
      ]
    },
    {
      "cell_type": "markdown",
      "metadata": {
        "id": "yvcU4VDkwbVE",
        "colab_type": "text"
      },
      "source": [
        "### 1.2 Pre-processing to remove most and least frequent words\n",
        "\n",
        "We can see that different words appear with different frequencies.\n",
        "\n",
        "The most common words appear in almost all documents. Hence, for a classification task, having information about those words' frequencies does not mater much since they appear frequently in every type of document. To get a good feature representation, we eliminate them since they do not add too much value.\n",
        "\n",
        "Additionally, notice how the least frequent words appear so rarely that they might not be useful either.\n",
        "\n",
        "Let us pre-process our news articles now to remove the most frequent and least frequent words by thresholding their counts: "
      ]
    },
    {
      "cell_type": "code",
      "metadata": {
        "id": "TrBX6IOSaofH",
        "colab_type": "code",
        "colab": {}
      },
      "source": [
        "def cleaning_vocabulary_words(list_of_grams):\n",
        "  valid_words = defaultdict(int)\n",
        "\n",
        "  print('Number of words before preprocessing:', len(list_of_grams))\n",
        "\n",
        "  # Ignore the 25 most frequent words, and the words which appear less than 100 times\n",
        "  ignore_most_frequent = 25\n",
        "  freq_thresh = 100\n",
        "  feature_number = 0\n",
        "  for word, word_frequency in list_of_grams[ignore_most_frequent:]:\n",
        "      if word_frequency > freq_thresh:\n",
        "          valid_words[word] = feature_number\n",
        "          feature_number += 1\n",
        "      elif '_' in word:\n",
        "          valid_words[word] = feature_number\n",
        "          feature_number += 1\n",
        "\n",
        "  print('Number of words after preprocessing:', len(valid_words))\n",
        "\n",
        "  vector_size = len(valid_words)\n",
        "  return valid_words, vector_size"
      ],
      "execution_count": 0,
      "outputs": []
    },
    {
      "cell_type": "code",
      "metadata": {
        "id": "ztxnNsH8bVQV",
        "colab_type": "code",
        "outputId": "09c8ef66-f741-43c0-ea19-2491e628345f",
        "colab": {
          "base_uri": "https://localhost:8080/",
          "height": 52
        }
      },
      "source": [
        "valid_words, number_of_words = cleaning_vocabulary_words(sorted_words)"
      ],
      "execution_count": 0,
      "outputs": [
        {
          "output_type": "stream",
          "text": [
            "Number of words before preprocessing: 89599\n",
            "Number of words after preprocessing: 4096\n"
          ],
          "name": "stdout"
        }
      ]
    },
    {
      "cell_type": "markdown",
      "metadata": {
        "id": "OL7KDD5nwbVG",
        "colab_type": "text"
      },
      "source": [
        "### 1.3 Bag-of-Words representation\n",
        "\n",
        "The simplest way to represent a document $D$ as a vector $V$ would be to now count the relevant words in the document. \n",
        "\n",
        "For each document, make a vector of the count of each of the words in the vocabulary (excluding the words removed in the previous step - the \"stopwords\")."
      ]
    },
    {
      "cell_type": "code",
      "metadata": {
        "id": "hmPFrRWfwbVH",
        "colab_type": "code",
        "outputId": "70664158-0329-47ac-e836-5648f5b6d349",
        "colab": {
          "base_uri": "https://localhost:8080/",
          "height": 132
        }
      },
      "source": [
        "def convert_to_BoW(dataset, number_of_documents):\n",
        "    bow_representation = np.zeros((number_of_documents, number_of_words))\n",
        "    labels = np.zeros((number_of_documents, 1))\n",
        "    \n",
        "    i = 0\n",
        "    for label, class_name in enumerate(dataset):\n",
        "        \n",
        "        # For each file\n",
        "        for f in dataset[class_name]:\n",
        "            \n",
        "           # Read text from each file and create BoW representations for them.\n",
        "    return bow_representation, labels\n",
        "\n",
        "# Convert the dataset into their bag of words representation treating train and test separately\n",
        "train_bow_set, train_bow_labels = convert_to_BoW(train_set, n_train)\n",
        "test_bow_set, test_bow_labels = convert_to_BoW(test_set, n_test)"
      ],
      "execution_count": 0,
      "outputs": [
        {
          "output_type": "error",
          "ename": "IndentationError",
          "evalue": "ignored",
          "traceback": [
            "\u001b[0;36m  File \u001b[0;32m\"<ipython-input-21-4a2c4d126e36>\"\u001b[0;36m, line \u001b[0;32m12\u001b[0m\n\u001b[0;31m    return bow_representation, labels\u001b[0m\n\u001b[0m    ^\u001b[0m\n\u001b[0;31mIndentationError\u001b[0m\u001b[0;31m:\u001b[0m expected an indented block\n"
          ]
        }
      ]
    },
    {
      "cell_type": "markdown",
      "metadata": {
        "id": "b2L9gwfXwbVI",
        "colab_type": "text"
      },
      "source": [
        "### 1.4 Document classification using Bag-of-Words\n",
        "\n",
        "For the test documents, use your favorite distance metric (Cosine, Eucilidean, etc.) to find similar news articles from your training set and classify using kNN."
      ]
    },
    {
      "cell_type": "code",
      "metadata": {
        "id": "hGen5XWiwbVK",
        "colab_type": "code",
        "colab": {}
      },
      "source": [
        "# Optimized K-NN:- This does the same thing as you've learned but in an optimized manner\n",
        "def dist(train_features, given_feature):\n",
        "    # Calculate euclidea distaces between the training feature set and the given feature\n",
        "    # Try and optimise this calculation using in built numpy functions rather than for loops\n",
        "    return distances\n",
        "\n",
        "''' \n",
        " Optimized K-NN code. This code is the same as what you've already seen, but trades off memory efficency \n",
        " for computational efficency. \n",
        "'''\n",
        "def kNN(k, train_features, train_labels, given_feature):\n",
        "    distances = []\n",
        "    \n",
        "    n = train_features.shape[0]\n",
        "    \n",
        "    # np.tile function repeats the given_feature n times.\n",
        "    given_feature = np.tile(given_feature, (n, 1))\n",
        "    \n",
        "    # Compute distance\n",
        "    distances = dist(train_features, given_feature)\n",
        "    sort_neighbors = np.argsort(distances)\n",
        "    return np.concatenate((distances[sort_neighbors][:k].reshape(-1, 1), train_labels[sort_neighbors][:k].reshape(-1, 1)), axis = 1)\n",
        "\n",
        "def kNN_classify(k, train_features, train_labels, given_feature):\n",
        "    tally = collections.Counter()\n",
        "    tally.update(str(int(nn[1])) for nn in kNN(k, train_features, train_labels, given_feature))\n",
        "    return int(tally.most_common(1)[0][0])"
      ],
      "execution_count": 0,
      "outputs": []
    },
    {
      "cell_type": "markdown",
      "metadata": {
        "id": "p1oZ_fMvwbVL",
        "colab_type": "text"
      },
      "source": [
        "For example, using 3 nearest neighbours, the $0^{th}$ test document is classified as:"
      ]
    },
    {
      "cell_type": "markdown",
      "metadata": {
        "id": "oUjby7ObwbVN",
        "colab_type": "text"
      },
      "source": [
        "Computing accuracy for the bag-of-words features on the full test set:"
      ]
    },
    {
      "cell_type": "code",
      "metadata": {
        "id": "bjxqR2gUwbVO",
        "colab_type": "code",
        "colab": {}
      },
      "source": [
        "accuracy = 0\n",
        "for i, given_feature in enumerate(test_bow_set):\n",
        "    print(\"Progress: {0:.04f}\".format((i+1)/len(test_bow_set)), end=\"\\r\")\n",
        "    predicted_class = kNN_classify(3, train_bow_set, train_bow_labels, given_feature)\n",
        "    if predicted_class == int(test_bow_labels[i]):\n",
        "        accuracy += 1\n",
        "BoW_accuracy = (accuracy / len(test_bow_set))"
      ],
      "execution_count": 0,
      "outputs": []
    },
    {
      "cell_type": "code",
      "metadata": {
        "id": "FJk9zGFMYe2G",
        "colab_type": "code",
        "colab": {}
      },
      "source": [
        "print(BoW_accuracy)"
      ],
      "execution_count": 0,
      "outputs": []
    }
  ]
}